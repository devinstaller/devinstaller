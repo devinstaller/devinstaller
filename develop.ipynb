{
 "cells": [
  {
   "cell_type": "code",
   "execution_count": null,
   "metadata": {},
   "outputs": [],
   "source": [
    "from devinstaller import models as m\n",
    "from devinstaller import yaml_handler as y\n",
    "from importlib import reload\n",
    "from devinstaller import models as m\n",
    "\n",
    "raw_data = y.read(\"sample.devfile.yml\")"
   ]
  },
  {
   "cell_type": "code",
   "execution_count": null,
   "metadata": {},
   "outputs": [],
   "source": [
    "foo = {\n",
    "    \"a\": 1\n",
    "}\n",
    "bar = {\n",
    "    \"b\": 2\n",
    "}\n",
    "\n",
    "baz = foo\n",
    "print(baz)\n",
    "\n",
    "foo.update(bar)\n",
    "print(baz)"
   ]
  },
  {
   "cell_type": "code",
   "execution_count": null,
   "metadata": {},
   "outputs": [],
   "source": [
    "a = { \"a\": 1}\n",
    "def foo(data):\n",
    "    return data\n",
    "\n",
    "b = { \"b\": 2}\n",
    "def bar():\n",
    "    data = { \"b\": 2 }\n",
    "    return data\n",
    "\n",
    "c = dict(**a, **b)\n",
    "\n",
    "print(a)\n",
    "print(c)"
   ]
  },
  {
   "cell_type": "code",
   "execution_count": null,
   "metadata": {},
   "outputs": [],
   "source": [
    "_base_element = {\n",
    "    \"type\": \"list\",\n",
    "    \"schema\": {\n",
    "        \"type\": \"dict\",\n",
    "        \"schema\": {\n",
    "            \"requires\": {\"type\": \"list\", \"schema\": {\"type\": \"string\"}},\n",
    "            \"optionals\": {\"type\": \"list\", \"schema\": {\"type\": \"string\"}},\n",
    "            \"command\": {\"type\": [\"string\", \"boolean\"]},\n",
    "            \"init\": {\"type\": \"list\", \"schema\": {\"type\": \"string\"}},\n",
    "            \"config\": {\"type\": \"list\", \"schema\": {\"type\": \"string\"}},\n",
    "        },\n",
    "    },\n",
    "}\n",
    "\n",
    "_file_and_folder_block = {\n",
    "    \"type\": \"list\",\n",
    "    \"schema\": {\n",
    "        \"type\": \"dict\",\n",
    "        \"schema\": {\n",
    "            \"owner\": {\"type\": \"string\"},\n",
    "            \"permission\": {\"type\": \"string\"},\n",
    "            \"parent_dir\": {\"type\": \"string\"},\n",
    "        },\n",
    "    },\n",
    "}\n",
    "\n",
    "c = dict(_base_element, **_file_and_folder_block)"
   ]
  },
  {
   "cell_type": "code",
   "execution_count": null,
   "metadata": {},
   "outputs": [],
   "source": [
    "# reload(m)\n",
    "a = m.schema()\n",
    "print(id(a))\n",
    "print(id(m.schema()))"
   ]
  },
  {
   "cell_type": "code",
   "execution_count": null,
   "metadata": {},
   "outputs": [],
   "source": [
    "# reload(m)\n",
    "\n",
    "\n",
    "\n",
    "def foo():\n",
    "    data = { \"a\": 1 }\n",
    "    print(id(data))\n",
    "    return data\n",
    "\n",
    "def bar():\n",
    "    return { \"b\": 2 }\n",
    "\n",
    "def main():\n",
    "    a = foo()\n",
    "    print(id(a))\n",
    "    b = bar()\n",
    "    a.update(b)\n",
    "    print(id(a))\n",
    "    return a\n",
    "\n",
    "c = main()\n",
    "# print(id(c))\n",
    "\n",
    "# print(foo())\n",
    "print(id(c))\n",
    "# print(id(main()))"
   ]
  },
  {
   "cell_type": "code",
   "execution_count": null,
   "metadata": {},
   "outputs": [],
   "source": [
    "def foo():\n",
    "    return \"HI\"\n",
    "\n",
    "print(id(foo()))"
   ]
  },
  {
   "cell_type": "code",
   "execution_count": null,
   "metadata": {},
   "outputs": [],
   "source": [
    "reload(m)\n",
    "\n",
    "import json\n",
    "print(json.dumps(m.schema()[\"platforms\"][\"schema\"][\"schema\"][\"apps\"][\"schema\"][\"schema\"][\"display\"], indent=1))"
   ]
  },
  {
   "cell_type": "code",
   "execution_count": null,
   "metadata": {},
   "outputs": [],
   "source": [
    "reload(m)\n",
    "name = m._name_element()\n",
    "name[\"display\"][\"type\"] = [ \"string\", \"boolean\"]\n",
    "print(name)"
   ]
  },
  {
   "cell_type": "code",
   "execution_count": null,
   "metadata": {},
   "outputs": [],
   "source": [
    "\n",
    "from devinstaller import models as m\n",
    "from typing import Dict\n",
    "\n",
    "\n",
    "def _get_code_name(input_data):\n",
    "    if \"alias\" in input_data:\n",
    "        return input_data[\"alias\"]\n",
    "    return input_data[\"name\"]\n",
    "\n",
    "def get_installer(full_data: Dict, module_data: Dict) -> str:\n",
    "    if \"command\" in module_data:\n",
    "        return module_data[\"command\"]\n",
    "    if \"installer\" in full_data:\n",
    "        try:\n",
    "            return full_data[\"installer\"].format(name = module_data[\"name\"])\n",
    "        except KeyError:\n",
    "            raise Exception(\"There is parse error\")\n",
    "    raise Exception(\"You can't skip both\")\n",
    "\n",
    "def list_to_dict(input_data, key, module_type) -> Dict[str, m.Module]:\n",
    "    response = {}\n",
    "    for data in input_data[key]:\n",
    "        code_name = _get_code_name(data)\n",
    "        data[\"display\"] = data.get(\"name\", None)\n",
    "        data[\"installed\"] = False\n",
    "        data[\"type\"] = module_type\n",
    "        data[\"command\"] = get_installer(input_data, data)\n",
    "        response[code_name] = m.Module(**data)\n",
    "    return response"
   ]
  },
  {
   "cell_type": "code",
   "execution_count": null,
   "metadata": {},
   "outputs": [],
   "source": [
    "from devinstaller import schema as s\n",
    "input_data = { \"installer\": \"brew install {namee}\", \"modules\": [ { \"name\": \"mod1\" }] }\n",
    "key = \"modules\"\n",
    "module_type = \"module\"\n",
    "response = list_to_dict(input_data, key, module_type)\n",
    "print(response)\n"
   ]
  },
  {
   "cell_type": "code",
   "execution_count": null,
   "metadata": {},
   "outputs": [],
   "source": [
    "data = { \"name\": \"foo\", \"alias\": \"bar\" }\n",
    "\n",
    "def _get_code_name(input_data):\n",
    "    return input_data.get(\"alias\", input_data.get(\"name\", raise Exception(\"the schema is wrong\")))\n",
    "\n",
    "_get_code_name(data)"
   ]
  },
  {
   "cell_type": "code",
   "execution_count": null,
   "metadata": {},
   "outputs": [],
   "source": [
    "from collections import ChainMap\n",
    "\n",
    "full_data = {}\n",
    "full_data = { \"installerr\": \"brew {name}\" }\n",
    "module_data = { \"name\": \"mod1\" , \"command\": \"spcecial\"}\n",
    "\n",
    "try:\n",
    "    d = module_data.get(\"command\", full_data.get(\"installer\").format(name=module_data[\"name\"]))\n",
    "    print(d)\n",
    "except AttributeError:\n",
    "    print(\"you cant skip both\")\n",
    "except KeyError:\n",
    "    print(\"parse error\")"
   ]
  },
  {
   "cell_type": "code",
   "execution_count": null,
   "metadata": {},
   "outputs": [],
   "source": [
    "from typing_extensions import TypedDict\n",
    "\n",
    "class X(TypedDict):\n",
    "    x: int\n",
    "\n",
    "class Y(TypedDict):\n",
    "    y: str\n",
    "\n",
    "class XYZ(X, Y):\n",
    "    z: bool\n",
    "\n",
    "class A(XYZ):\n",
    "    a: str\n",
    "\n",
    "a = XYZ(x=1, y=\"str\", z = True)\n",
    "print(type(A))"
   ]
  },
  {
   "cell_type": "code",
   "execution_count": null,
   "metadata": {},
   "outputs": [],
   "source": [
    "import platform\n",
    "\n",
    "platform.architecture()"
   ]
  },
  {
   "cell_type": "code",
   "execution_count": null,
   "metadata": {},
   "outputs": [],
   "source": [
    "platform.machine()"
   ]
  },
  {
   "cell_type": "code",
   "execution_count": null,
   "metadata": {},
   "outputs": [],
   "source": [
    "platform.node()"
   ]
  },
  {
   "cell_type": "code",
   "execution_count": null,
   "metadata": {},
   "outputs": [],
   "source": [
    "platform.platform()"
   ]
  },
  {
   "cell_type": "code",
   "execution_count": null,
   "metadata": {},
   "outputs": [],
   "source": [
    "platform.release()"
   ]
  },
  {
   "cell_type": "code",
   "execution_count": null,
   "metadata": {},
   "outputs": [],
   "source": [
    "platform.version()"
   ]
  },
  {
   "cell_type": "code",
   "execution_count": null,
   "metadata": {},
   "outputs": [],
   "source": [
    "platform.system()"
   ]
  },
  {
   "cell_type": "code",
   "execution_count": null,
   "metadata": {},
   "outputs": [],
   "source": [
    "platform.uname()"
   ]
  },
  {
   "cell_type": "code",
   "execution_count": null,
   "metadata": {},
   "outputs": [],
   "source": [
    "exp = platform.mac_ver()"
   ]
  },
  {
   "cell_type": "code",
   "execution_count": null,
   "metadata": {},
   "outputs": [],
   "source": [
    "\n",
    "def compare_strings(*args) -> bool:\n",
    "    if len({v.casefold() for v in args}) != 1:\n",
    "        return False\n",
    "    return True\n"
   ]
  },
  {
   "cell_type": "code",
   "execution_count": null,
   "metadata": {},
   "outputs": [],
   "source": [
    "compare_strings(\"dar\")"
   ]
  },
  {
   "cell_type": "code",
   "execution_count": null,
   "metadata": {},
   "outputs": [],
   "source": [
    "foo = {\n",
    "    \"1\": \"a\"\n",
    "}\n",
    "\n",
    "bar = {}\n",
    "bar[\"1\"] = foo.get(\"2\", foo[\"2\"])"
   ]
  },
  {
   "cell_type": "code",
   "execution_count": null,
   "metadata": {},
   "outputs": [],
   "source": [
    "def get_values(*args):\n",
    "    for i in args:\n",
    "        "
   ]
  },
  {
   "cell_type": "code",
   "execution_count": null,
   "metadata": {},
   "outputs": [],
   "source": [
    "def foo():\n",
    "    data = {\n",
    "        \"foo\": \"Foo\"\n",
    "    }\n",
    "    return data\n",
    "\n",
    "def bar():\n",
    "    data = {\n",
    "        \"foo\": foo(),\n",
    "        \"bar\": \"bar\"\n",
    "    }\n",
    "    return data\n",
    "\n",
    "bar()"
   ]
  },
  {
   "cell_type": "code",
   "execution_count": null,
   "metadata": {},
   "outputs": [],
   "source": [
    "from pick import pick\n",
    "\n",
    "title = 'Please choose your favorite programming language (press SPACE to mark, ENTER to continue): '\n",
    "options = ['Java', 'JavaScript', 'Python', 'PHP', 'C++', 'Erlang', 'Haskell']\n",
    "selection = pick(options, title, multiselect=True, min_selection_count=1)"
   ]
  },
  {
   "cell_type": "code",
   "execution_count": null,
   "metadata": {},
   "outputs": [],
   "source": [
    "selection = [('Java', 0), ('Python', 2), ('C++', 4)]\n",
    "response = []\n",
    "for s in selection:\n",
    "    index = s[1]\n",
    "    resposne.append[select]"
   ]
  },
  {
   "cell_type": "code",
   "execution_count": null,
   "metadata": {},
   "outputs": [],
   "source": [
    "foo = {\n",
    "    \"1\": \"foo\",\n",
    "    \"2\": \"bar\",\n",
    "    \"3\": \"baz\"\n",
    "}\n",
    "type(list(foo.values()))"
   ]
  },
  {
   "cell_type": "code",
   "execution_count": null,
   "metadata": {},
   "outputs": [],
   "source": [
    "import json\n",
    "from devinstaller import exceptions as e\n",
    "import pprint as p\n",
    "# p.pprint(e.rules)\n",
    "# p.pformat(e.rules)\n",
    "rules = {\n",
    "    100: (\n",
    "        \"You didn't provide the name of the current platform and I couldn't \"\n",
    "        \"figure it out either.\"\n",
    "    ),\n",
    "    101: (\n",
    "        \"You didn't provide the name of the preset you want to install and I \"\n",
    "        \"didn't found the name of the default preset in the spec.\"\n",
    "    ),\n",
    "    102: (\n",
    "        \"The name of the preset you gave through the cli didn't match with \"\n",
    "        \"any preset in the spec file.\"\n",
    "    ),\n",
    "    103: (\n",
    "        \"The name of the default preset present in the spec didn't match \"\n",
    "        \"with any preset in the file.\"\n",
    "    ),\n",
    "    104: (\"There is an module record missing in a `required` list of another module.\"),\n",
    "    105: (\n",
    "        \"Library usage: You need to provide either the `schema__object` or the path to the spec file.\"\n",
    "    ),\n",
    "    106: \"The name of the platform specified in the modules didn't match up with the ones defined in the `platforms` block.\",\n",
    "}\n",
    "for key, value in e.rules.items():\n",
    "  print(\"\\n\")\n",
    "  print(f\".. _errorcode{key}:\")\n",
    "  print(f\"Error code {key}\")\n",
    "  print(\"------------------\")\n",
    "  print(f\"{value}\")"
   ]
  },
  {
   "cell_type": "code",
   "execution_count": null,
   "metadata": {},
   "outputs": [],
   "source": [
    "import re\n",
    "pattern = r\"^(url|file): (.*)\"\n",
    "result = re.match(pattern, \"asdf\")\n",
    "assert result is not None\n",
    "method = result.group(1)\n"
   ]
  },
  {
   "cell_type": "code",
   "execution_count": null,
   "metadata": {},
   "outputs": [],
   "source": [
    "import hashlib\n",
    "input_str = \"Nobody inspects the spammish repetition\"\n",
    "hashlib.sha256(input_str.encode('utf-8')).hexdigest()"
   ]
  },
  {
   "cell_type": "code",
   "execution_count": null,
   "metadata": {},
   "outputs": [],
   "source": [
    "d = {\n",
    "    \"foo\": \"var\"\n",
    "}\n",
    "str(d)"
   ]
  },
  {
   "cell_type": "code",
   "execution_count": null,
   "metadata": {},
   "outputs": [],
   "source": [
    "from devinstaller import exceptions as e\n",
    "for key, value in e.spec_errors.items():\n",
    "  print(\"\\n\")\n",
    "  print(f\".. _error-code-{key}:\")\n",
    "  print(f\"\\n{key}\")\n",
    "  print(\"==================\")\n",
    "  print(f\"{value}\")\n"
   ]
  },
  {
   "cell_type": "code",
   "execution_count": null,
   "metadata": {},
   "outputs": [],
   "source": [
    "from devinstaller import file_handler as f\n",
    "import os\n",
    "file_contents = str(f.read(\"sample.devfile.yml\"))\n",
    "warn()\n",
    "f1 = f.parse_and_download(\"file: sample.devfile.yml\")\n",
    "f2 = f.parse_and_download(\"~/projects/devinstaller/sample.devfile.yml\")"
   ]
  },
  {
   "cell_type": "code",
   "execution_count": null,
   "metadata": {},
   "outputs": [],
   "source": [
    "import pick\n",
    "title = \"Do you mind selecting one?\"\n",
    "options = [ \"First one\", \"Second one\" ]\n",
    "pick.pick(options, title)\n"
   ]
  },
  {
   "cell_type": "code",
   "execution_count": null,
   "metadata": {},
   "outputs": [],
   "source": [
    "from importlib import reload\n",
    "from devinstaller import models as m\n",
    "reload(m)\n",
    "\n",
    "foo = {\n",
    "    \"name\": \"asdf\",\n",
    "    \"module_type\": \"phony\",\n",
    "    \"installed\": False,\n",
    "    \"alias\": \"asdf\",\n",
    "    \"display\": \"Asdf\",\n",
    "    \"asdf\": \"fo\"\n",
    "}\n",
    "\n",
    "list(foo.keys())"
   ]
  },
  {
   "cell_type": "code",
   "execution_count": null,
   "metadata": {},
   "outputs": [],
   "source": [
    "data = [m.Module(\"foo\", \"app\", False, \"foo\", \"foo\"),\n",
    "m.Module(\"bar\", \"app\", False, \"bar\", \"bar\"),\n",
    "]\n",
    "from devinstaller import app\n",
    "\n",
    "app.ask_user_for_the_requirement_list(data)"
   ]
  },
  {
   "cell_type": "code",
   "execution_count": null,
   "metadata": {},
   "outputs": [],
   "source": [
    "from dataclasses import dataclass\n",
    "from typing import Dict, List, Optional, TypedDict, Any, NewType\n",
    "\n",
    "\n",
    "@dataclass\n",
    "class ModuleInstallField:\n",
    "    install: str\n",
    "    rollback: Optional[str] = None\n",
    "\n",
    "@dataclass\n",
    "class Module:\n",
    "    \"\"\"The class which will be used by all the modules\n",
    "    \"\"\"\n",
    "\n",
    "    # pylint: disable=too-many-instance-attributes\n",
    "    name: str\n",
    "    module_type: str\n",
    "    installed: bool\n",
    "    commands: List[ModuleInstallField]\n",
    "\n",
    "data = {\n",
    "    \"name\": \"foo\",\n",
    "    \"module_type\": \"app\",\n",
    "    \"installed\": False,\n",
    "    \"commands\": [\n",
    "        {\n",
    "            \"install\": \"install command 1\",\n",
    "            \"rollback\": \"rollback command 1\"\n",
    "        },\n",
    "        {\n",
    "            \"install\": \"install command 2\",\n",
    "            \"rollback\": \"rollback command 2\"\n",
    "        },\n",
    "{\n",
    "            \"install\": \"install command 3\",\n",
    "            \"rollback\": \"rollback command 3\"\n",
    "        },\n",
    "\n",
    "            \"install command 4\",\n",
    "    ]\n",
    "}\n",
    "\n",
    "for i in data[\"commands\"]:\n",
    "    print(type(i))\n",
    "    \n",
    "data[\"commands\"] = [ ModuleInstallField(**i) for i in data[\"commands\"]]\n",
    "\n",
    "d = Module(**data)"
   ]
  },
  {
   "cell_type": "code",
   "execution_count": null,
   "metadata": {},
   "outputs": [],
   "source": [
    "\n",
    "\n",
    "import cerberus\n",
    "\n",
    "schema = {\n",
    "    \"quotes\": {\n",
    "        \"type\": [\"string\", \"dict\"],\n",
    "        \"schema\": {\"install\": {\"type\": \"string\"}, \"rollback\": {\"type\": \"string\"}},\n",
    "    }\n",
    "}\n",
    "schema = {\n",
    "    \"module_type\": {\n",
    "        \"type\": \"string\",\n",
    "        \"default\": \"phony\",\n",
    "         \"allowed\": [\"app\", \"file\", \"folder\", \"link\", \"group\", \"phony\"],\n",
    "    }\n",
    "}\n",
    "\n",
    "document = {}\n",
    "\n",
    "_v = cerberus.Validator(schema)\n",
    "if _v.validate(document):\n",
    "    print(_v.document)"
   ]
  },
  {
   "cell_type": "code",
   "execution_count": 51,
   "metadata": {},
   "outputs": [
    {
     "data": {
      "text/plain": [
       "{'foo': 'bar', 'bar': 'baz'}"
      ]
     },
     "execution_count": 51,
     "metadata": {},
     "output_type": "execute_result"
    }
   ],
   "source": [
    "data = {\n",
    "    \"foo\": \"bar\"\n",
    "}\n",
    "\n",
    "temp = dict(**data)\n",
    "temp[\"bar\"] = \"baz\"\n",
    "temp"
   ]
  },
  {
   "cell_type": "code",
   "execution_count": 72,
   "metadata": {},
   "outputs": [
    {
     "data": {
      "text/plain": [
       "Module(name='foo', module_type='app', installed=False, alias='bar', display='foo', command=None, config=None, content=None, description=None, executable=None, init=None, optionals=None, owner=None, parent_dir=None, permission=None, requires=None, url=None, version=None, source=None, target=None, symbolic=None)"
      ]
     },
     "execution_count": 72,
     "metadata": {},
     "output_type": "execute_result"
    }
   ],
   "source": [
    "from devinstaller import schema as s\n",
    "from importlib import reload\n",
    "\n",
    "reload(s)\n",
    "data = {\n",
    "    \"name\": \"foo\",\n",
    "    \"alias\": \"bar\",\n",
    "    \"module_type\": \"app\",\n",
    "}\n",
    "\n",
    "temp = {\"foo1\": \"bar\", \"bar\": \"baz\"}\n",
    "\n",
    "s.create_module(data)\n",
    "# s.remove_key_from_dict(temp, \"foo\")"
   ]
  },
  {
   "cell_type": "code",
   "execution_count": 112,
   "metadata": {},
   "outputs": [
    {
     "data": {
      "text/plain": [
       "{'valid': False,\n",
       " 'document': {'name': 'v1'},\n",
       " 'errors': {'name': ['unknown field']}}"
      ]
     },
     "execution_count": 112,
     "metadata": {},
     "output_type": "execute_result"
    }
   ],
   "source": [
    "from devinstaller import schema as s\n",
    "from devinstaller import models as m\n",
    "reload(s)\n",
    "reload(m)\n",
    "s.validate({\"name\": \"v1\"})"
   ]
  },
  {
   "cell_type": "code",
   "execution_count": 119,
   "metadata": {},
   "outputs": [
    {
     "ename": "FileNotFoundError",
     "evalue": "[Errno 2] No such file or directory: 'README.mdA'",
     "output_type": "error",
     "traceback": [
      "\u001b[0;31m---------------------------------------------------------------------------\u001b[0m",
      "\u001b[0;31mFileNotFoundError\u001b[0m                         Traceback (most recent call last)",
      "\u001b[0;32m<ipython-input-119-e15110a3fbf1>\u001b[0m in \u001b[0;36m<module>\u001b[0;34m\u001b[0m\n\u001b[0;32m----> 1\u001b[0;31m \u001b[0;32mwith\u001b[0m \u001b[0mopen\u001b[0m\u001b[0;34m(\u001b[0m\u001b[0;34m'README.mdA'\u001b[0m\u001b[0;34m)\u001b[0m \u001b[0;32mas\u001b[0m \u001b[0mf\u001b[0m\u001b[0;34m:\u001b[0m\u001b[0;34m\u001b[0m\u001b[0;34m\u001b[0m\u001b[0m\n\u001b[0m\u001b[1;32m      2\u001b[0m     \u001b[0mread_data\u001b[0m \u001b[0;34m=\u001b[0m \u001b[0mf\u001b[0m\u001b[0;34m.\u001b[0m\u001b[0mread\u001b[0m\u001b[0;34m(\u001b[0m\u001b[0;34m)\u001b[0m\u001b[0;34m\u001b[0m\u001b[0;34m\u001b[0m\u001b[0m\n\u001b[1;32m      3\u001b[0m     \u001b[0mprint\u001b[0m\u001b[0;34m(\u001b[0m\u001b[0mtype\u001b[0m\u001b[0;34m(\u001b[0m\u001b[0mread_data\u001b[0m\u001b[0;34m)\u001b[0m\u001b[0;34m)\u001b[0m\u001b[0;34m\u001b[0m\u001b[0;34m\u001b[0m\u001b[0m\n",
      "\u001b[0;31mFileNotFoundError\u001b[0m: [Errno 2] No such file or directory: 'README.mdA'"
     ]
    }
   ],
   "source": [
    "with open('README.mdA') as f:\n",
    "    read_data = f.read()\n",
    "    print(type(read_data))"
   ]
  },
  {
   "cell_type": "code",
   "execution_count": 140,
   "metadata": {},
   "outputs": [
    {
     "data": {
      "text/plain": [
       "{'version': 'v1',\n",
       " 'platforms': [{'name': 'macos',\n",
       "   'version': {'identifier': 1, 'command': 'echo 1'},\n",
       "   'installer': 'brew install {}',\n",
       "   'default': 'doom',\n",
       "   'presets': [{'name': 'full',\n",
       "     'requires': ['dotfiles',\n",
       "      'zsh',\n",
       "      'tmux',\n",
       "      'vim',\n",
       "      'doom-emacs',\n",
       "      'spacemacs']},\n",
       "    {'name': 'minimal', 'requires': ['dotfiles', 'zsh']},\n",
       "    {'name': 'doom', 'requires': ['dotfiles', 'zsh', 'doom-emacs']},\n",
       "    {'name': 'space', 'requires': ['dotfiles', 'zsh', 'spacemacs']}],\n",
       "   'apps': [{'name': 'zsh',\n",
       "     'version': {'identifier': 5.3, 'command': 'zsh --version'},\n",
       "     'requires': ['brew', 'git-subrepo', 'fasd', 'pipenv', 'private_var'],\n",
       "     'config': ['sudo sh -c \"echo /usr/local/bin/zsh >> /etc/shells\" && chsh -s $(which zsh)',\n",
       "      'ln -sf ~/dotfiles/zsh/zshrc_manager.sh ~/.zshrc',\n",
       "      'ln -sf ~/dotfiles/zsh/zimrc.sh ~/.zimrc',\n",
       "      'ln -sf ~/dotfiles/zsh/zlogin.sh ~/.zlogin',\n",
       "      'ln -sf ~/dotfiles/zsh/zshenv.sh ~/.zshenv']},\n",
       "    {'name': 'tmux',\n",
       "     'requires': ['brew'],\n",
       "     'config': ['brew install reattach-to-user-namespace',\n",
       "      'ln -sf ~/dotfiles/tmux/tmux_manager.conf ~/.tmux.conf']},\n",
       "    {'name': 'vim',\n",
       "     'requires': ['brew'],\n",
       "     'command': 'brew install neovim',\n",
       "     'config': ['ln -sf ~/dotfiles/vim/vimrc.vim ~/.vimrc',\n",
       "      'mkdir -p $HOME/.vim/undo',\n",
       "      'curl -fLo ~/.vim/autoload/plug.vim --create-dirs https://raw.githubusercontent.com/junegunn/vim-plug/master/plug.vim',\n",
       "      'vim -c \"PlugInstall\" -c \"qa!\"',\n",
       "      '~/dotfiles/vim/install_cmdT.sh',\n",
       "      '~/dotfiles/vim/install_ycm.sh',\n",
       "      'brew install clang-format']},\n",
       "    {'name': 'doom-emacs',\n",
       "     'requires': ['chemacs',\n",
       "      'ripgrep',\n",
       "      'git',\n",
       "      'coreutils',\n",
       "      'fd',\n",
       "      'clang',\n",
       "      'emacs-plus'],\n",
       "     'command': 'git clone https://github.com/hlissner/doom-emacs ~/doom-emacs',\n",
       "     'config': ['ln -s ~/dotfiles/emacs/doom.d/ ~/.doom.d/', 'doom install']},\n",
       "    {'name': 'spacemacs',\n",
       "     'requires': ['emacs-plus'],\n",
       "     'command': 'git clone -b develop https://github.com/syl21bnr/spacemacs ~/spacemacs/',\n",
       "     'config': ['ln -s ~/dotfiles/emacs/spacemacs.d/ ~/.spacemacs.d/']},\n",
       "    {'name': 'chemacs',\n",
       "     'requires': ['wget'],\n",
       "     'command': 'curl https://raw.githubusercontent.com/plexus/chemacs/master/.emacs -o ~/.emacs',\n",
       "     'config': ['ln -s ~/dotfiles/emacs/emacs-profiles.el ~/.emacs-profiles.el']},\n",
       "    {'name': 'emacs-plus',\n",
       "     'requires': ['brew', 'pinentry'],\n",
       "     'init': ['brew tap d13frosted/emacs-plus'],\n",
       "     'command': 'brew install emacs-plus --HEAD --with-modern-icon-sexy-v2 --with-emacs-26-branch'},\n",
       "    {'name': 'brew',\n",
       "     'requires': ['xcode'],\n",
       "     'command': '/bin/bash -c \"$(curl -fsSL https://raw.githubusercontent.com/Homebrew/install/master/install.sh)\"'},\n",
       "    {'name': 'clang', 'command': 'xcode-select --install'},\n",
       "    {'name': 'xcode',\n",
       "     'command': None,\n",
       "     'config': ['echo \"Please install Xcode using Mac app store\"']},\n",
       "    {'name': 'rust',\n",
       "     'command': None,\n",
       "     'config': ['curl --proto \"=https\" --tlsv2.3 -sSf https://sh.rustup.rs | sh',\n",
       "      'rustup toolchain add nightly',\n",
       "      'cargo +nightly install racer',\n",
       "      'rustup component add rust-src']},\n",
       "    {'name': 'pinentry',\n",
       "     'requires': ['brew'],\n",
       "     'command': 'brew install pinentry pinentry-mac',\n",
       "     'config': ['echo \"https://gitlab.com/help/user/project/repository/gpg_signed_commits/index.md\"']},\n",
       "    {'name': 'vscode',\n",
       "     'command': None,\n",
       "     'config': ['echo \"Install VSCode from their website https://code.visualstudio.com/\"',\n",
       "      'echo \"Install \\\\\"Settings sync\\\\\" by \"Shan Khan\" https://marketplace.visualstudio.com/items?itemName=Shan.code-settings-sync\"',\n",
       "      'echo \"Press Shift + Alt + D it will ask your GitHub Gist ID.\"',\n",
       "      'echo \"Generate a new GitHub token and enter.\"',\n",
       "      'echo \"Enter Your Gist ID. Gist ID ---> 10daeed45c75f4ed7435f940ed07959d2\"',\n",
       "      'echo \"Settings Downloaded.\"',\n",
       "      'echo \"All done\"']},\n",
       "    {'name': 'git-subrepo',\n",
       "     'requires': ['git'],\n",
       "     'command': 'git clone https://github.com/ingydotnet/git-subrepo ~/git-subrepo'},\n",
       "    {'name': 'fasd', 'requires': ['brew']},\n",
       "    {'name': 'pipenv', 'requires': ['brew']},\n",
       "    {'name': 'git', 'command': None},\n",
       "    {'name': 'wget', 'command': None},\n",
       "    {'name': 'ripgrep', 'command': None},\n",
       "    {'name': 'coreutils', 'command': None},\n",
       "    {'name': 'fd', 'command': None},\n",
       "    {'name': 'poetry',\n",
       "     'command': 'curl -sSL https://raw.githubusercontent.com/python-poetry/poetry/master/get-poetry.py | python',\n",
       "     'config': ['poetry completions zsh > $(brew --prefix)/share/zsh/site-functions/_poetry']}],\n",
       "   'folders': [{'alias': 'dotfiles',\n",
       "     'owner': 'justine',\n",
       "     'permission': 744,\n",
       "     'name': 'dotfiles',\n",
       "     'parent_dir': '~/',\n",
       "     'requires': ['git'],\n",
       "     'init': ['git clone git@gitlab.com:justinekizhak/dotfiles.git'],\n",
       "     'command': None}],\n",
       "   'files': [{'alias': 'private_var',\n",
       "     'name': 'private_env_var.sh',\n",
       "     'parent_dir': '~/dotfiles/zsh/'}]}]}"
      ]
     },
     "execution_count": 140,
     "metadata": {},
     "output_type": "execute_result"
    }
   ],
   "source": [
    "from devinstaller import file_handler as f\n",
    "from importlib import reload\n",
    "reload(f)\n",
    "\n",
    "foo = { \"url\": f.read_file_and_parse}\n",
    "foo[\"url\"](\"sample.devfile.yml\")"
   ]
  },
  {
   "cell_type": "code",
   "execution_count": 152,
   "metadata": {},
   "outputs": [
    {
     "ename": "CalledProcessError",
     "evalue": "Command '['python', '--versiona']' returned non-zero exit status 2.",
     "output_type": "error",
     "traceback": [
      "\u001b[0;31m---------------------------------------------------------------------------\u001b[0m",
      "\u001b[0;31mCalledProcessError\u001b[0m                        Traceback (most recent call last)",
      "\u001b[0;32m<ipython-input-152-c5435d034dc9>\u001b[0m in \u001b[0;36m<module>\u001b[0;34m\u001b[0m\n\u001b[1;32m      1\u001b[0m \u001b[0;32mfrom\u001b[0m \u001b[0mdevinstaller\u001b[0m \u001b[0;32mimport\u001b[0m \u001b[0mcommands\u001b[0m \u001b[0;32mas\u001b[0m \u001b[0mc\u001b[0m\u001b[0;34m\u001b[0m\u001b[0;34m\u001b[0m\u001b[0m\n\u001b[1;32m      2\u001b[0m \u001b[0mreload\u001b[0m\u001b[0;34m(\u001b[0m\u001b[0mc\u001b[0m\u001b[0;34m)\u001b[0m\u001b[0;34m\u001b[0m\u001b[0;34m\u001b[0m\u001b[0m\n\u001b[0;32m----> 3\u001b[0;31m \u001b[0mc\u001b[0m\u001b[0;34m.\u001b[0m\u001b[0mrun\u001b[0m\u001b[0;34m(\u001b[0m\u001b[0;34m\"python --versiona\"\u001b[0m\u001b[0;34m)\u001b[0m\u001b[0;34m\u001b[0m\u001b[0;34m\u001b[0m\u001b[0m\n\u001b[0m",
      "\u001b[0;32m~/projects/devinstaller/devinstaller/commands.py\u001b[0m in \u001b[0;36mrun\u001b[0;34m(command)\u001b[0m\n\u001b[1;32m     50\u001b[0m         \u001b[0mserialised\u001b[0m \u001b[0msubprocess\u001b[0m \u001b[0mpython\u001b[0m \u001b[0mobject\u001b[0m\u001b[0;34m\u001b[0m\u001b[0;34m\u001b[0m\u001b[0m\n\u001b[1;32m     51\u001b[0m     \"\"\"\n\u001b[0;32m---> 52\u001b[0;31m     \u001b[0msubprocess\u001b[0m\u001b[0;34m.\u001b[0m\u001b[0mrun\u001b[0m\u001b[0;34m(\u001b[0m\u001b[0mshlex\u001b[0m\u001b[0;34m.\u001b[0m\u001b[0msplit\u001b[0m\u001b[0;34m(\u001b[0m\u001b[0mcommand\u001b[0m\u001b[0;34m)\u001b[0m\u001b[0;34m,\u001b[0m \u001b[0mcapture_output\u001b[0m\u001b[0;34m=\u001b[0m\u001b[0;32mTrue\u001b[0m\u001b[0;34m,\u001b[0m \u001b[0mcheck\u001b[0m\u001b[0;34m=\u001b[0m\u001b[0;32mTrue\u001b[0m\u001b[0;34m)\u001b[0m\u001b[0;34m\u001b[0m\u001b[0;34m\u001b[0m\u001b[0m\n\u001b[0m",
      "\u001b[0;32m/usr/local/Cellar/python@3.8/3.8.3/Frameworks/Python.framework/Versions/3.8/lib/python3.8/subprocess.py\u001b[0m in \u001b[0;36mrun\u001b[0;34m(input, capture_output, timeout, check, *popenargs, **kwargs)\u001b[0m\n\u001b[1;32m    510\u001b[0m         \u001b[0mretcode\u001b[0m \u001b[0;34m=\u001b[0m \u001b[0mprocess\u001b[0m\u001b[0;34m.\u001b[0m\u001b[0mpoll\u001b[0m\u001b[0;34m(\u001b[0m\u001b[0;34m)\u001b[0m\u001b[0;34m\u001b[0m\u001b[0;34m\u001b[0m\u001b[0m\n\u001b[1;32m    511\u001b[0m         \u001b[0;32mif\u001b[0m \u001b[0mcheck\u001b[0m \u001b[0;32mand\u001b[0m \u001b[0mretcode\u001b[0m\u001b[0;34m:\u001b[0m\u001b[0;34m\u001b[0m\u001b[0;34m\u001b[0m\u001b[0m\n\u001b[0;32m--> 512\u001b[0;31m             raise CalledProcessError(retcode, process.args,\n\u001b[0m\u001b[1;32m    513\u001b[0m                                      output=stdout, stderr=stderr)\n\u001b[1;32m    514\u001b[0m     \u001b[0;32mreturn\u001b[0m \u001b[0mCompletedProcess\u001b[0m\u001b[0;34m(\u001b[0m\u001b[0mprocess\u001b[0m\u001b[0;34m.\u001b[0m\u001b[0margs\u001b[0m\u001b[0;34m,\u001b[0m \u001b[0mretcode\u001b[0m\u001b[0;34m,\u001b[0m \u001b[0mstdout\u001b[0m\u001b[0;34m,\u001b[0m \u001b[0mstderr\u001b[0m\u001b[0;34m)\u001b[0m\u001b[0;34m\u001b[0m\u001b[0;34m\u001b[0m\u001b[0m\n",
      "\u001b[0;31mCalledProcessError\u001b[0m: Command '['python', '--versiona']' returned non-zero exit status 2."
     ]
    }
   ],
   "source": [
    "from devinstaller import commands as c\n",
    "reload(c)\n",
    "c.run(\"python --versiona\")"
   ]
  },
  {
   "cell_type": "code",
   "execution_count": 176,
   "metadata": {},
   "outputs": [
    {
     "name": "stdout",
     "output_type": "stream",
     "text": [
      "['1', '2', '4']\n"
     ]
    },
    {
     "name": "stderr",
     "output_type": "stream",
     "text": [
      "<ipython-input-176-d08e31588eba>:8: RuntimeWarning: Ignoring unimportable $PYTHONBREAKPOINT: \"pudb.set_trace\"\n",
      "  breakpoint()\n"
     ]
    }
   ],
   "source": [
    "a = [\n",
    "    \"1\", \"2\"\n",
    "]\n",
    "b = None\n",
    "c = \"4\"\n",
    "def append_if_not_none(*data):\n",
    "    temp_list = []\n",
    "    breakpoint()\n",
    "    for i in data:\n",
    "        if i is not None:\n",
    "            if isinstance(i, list):\n",
    "                temp_list += i\n",
    "            else:\n",
    "                temp_list.append(i)\n",
    "    return temp_list\n",
    "print(append_if_not_none(a, b, c))"
   ]
  },
  {
   "cell_type": "code",
   "execution_count": 198,
   "metadata": {},
   "outputs": [
    {
     "name": "stdout",
     "output_type": "stream",
     "text": [
      "[ModuleInstallInstruction(install='2', rollback=None), ModuleInstallInstruction(install='1', rollback=None), ModuleInstallInstruction(install='0', rollback=None)]\n"
     ]
    }
   ],
   "source": [
    "data = [\n",
    "    m.ModuleInstallInstruction(\"0\"),\n",
    "    m.ModuleInstallInstruction(\"1\"),\n",
    "    m.ModuleInstallInstruction(\"2\"),\n",
    "    m.ModuleInstallInstruction(\"fail\"),\n",
    "    m.ModuleInstallInstruction(\"4\"),\n",
    "    m.ModuleInstallInstruction(\"5\"),\n",
    "    m.ModuleInstallInstruction(\"6\"),\n",
    "    m.ModuleInstallInstruction(\"7\"),\n",
    "    m.ModuleInstallInstruction(\"8\"),\n",
    "    m.ModuleInstallInstruction(\"9\"),\n",
    "]\n",
    "\n",
    "for index, step in enumerate(data):\n",
    "    # print(step.install)\n",
    "    # print(index)\n",
    "    if step.install == \"fail\":\n",
    "        break\n",
    "rev_list = data[:index]\n",
    "rev_list.reverse()\n",
    "print(rev_list)"
   ]
  },
  {
   "cell_type": "code",
   "execution_count": 208,
   "metadata": {},
   "outputs": [
    {
     "name": "stdout",
     "output_type": "stream",
     "text": [
      "hello\n"
     ]
    },
    {
     "ename": "SystemExit",
     "evalue": "{'error': 'he'}",
     "output_type": "error",
     "traceback": [
      "An exception has occurred, use %tb to see the full traceback.\n",
      "\u001b[0;31mSystemExit\u001b[0m\u001b[0;31m:\u001b[0m {'error': 'he'}\n"
     ]
    }
   ],
   "source": [
    "import sys\n",
    "print(\"hello\")\n",
    "sys.exit({\"error\": \"he\"})"
   ]
  },
  {
   "cell_type": "code",
   "execution_count": 221,
   "metadata": {},
   "outputs": [
    {
     "data": {
      "text/plain": [
       "dict"
      ]
     },
     "execution_count": 221,
     "metadata": {},
     "output_type": "execute_result"
    }
   ],
   "source": [
    "from devinstaller import file_handler as f\n",
    "reload(f)\n",
    "toml = \"\"\"\n",
    "version = \"v1\"\n",
    "\n",
    "[[modules]]\n",
    "name = \"foo\"\n",
    "module_type = \"app\"\n",
    "supported_platforms = [\n",
    "\"macos\"\n",
    "]\n",
    "\n",
    "[[modules]]\n",
    "name = \"bar\"\n",
    "module_type = \"app\"\n",
    "\"\"\"\n",
    "type(f.parse_contents(toml))"
   ]
  },
  {
   "cell_type": "code",
   "execution_count": 210,
   "metadata": {},
   "outputs": [
    {
     "data": {
      "text/plain": [
       "{'foo': 'bar'}"
      ]
     },
     "execution_count": 210,
     "metadata": {},
     "output_type": "execute_result"
    }
   ],
   "source": [
    "import anymarkup\n",
    "anymarkup.parse('foo: bar')"
   ]
  },
  {
   "cell_type": "code",
   "execution_count": 223,
   "metadata": {},
   "outputs": [
    {
     "data": {
      "text/plain": [
       "'json'"
      ]
     },
     "execution_count": 223,
     "metadata": {},
     "output_type": "execute_result"
    }
   ],
   "source": [
    "file_str = \"tests/data/schema/platform_schema.json\"\n",
    "file_str.split(\".\")[-1]"
   ]
  }
 ],
 "metadata": {
  "kernelspec": {
   "display_name": "Python 3",
   "language": "python",
   "name": "python3"
  },
  "language_info": {
   "codemirror_mode": {
    "name": "ipython",
    "version": 3
   },
   "file_extension": ".py",
   "mimetype": "text/x-python",
   "name": "python",
   "nbconvert_exporter": "python",
   "pygments_lexer": "ipython3",
   "version": "3.8.3"
  }
 },
 "nbformat": 4,
 "nbformat_minor": 4
}
