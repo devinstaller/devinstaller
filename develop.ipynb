{
 "cells": [
  {
   "cell_type": "code",
   "execution_count": 1,
   "metadata": {},
   "outputs": [],
   "source": [
    "from devinstaller import models as m\n",
    "from devinstaller import yaml_handler as y\n",
    "from importlib import reload\n",
    "from devinstaller import models as m\n",
    "\n",
    "raw_data = y.read(\"sample.devfile.yml\")"
   ]
  },
  {
   "cell_type": "code",
   "execution_count": 2,
   "metadata": {},
   "outputs": [
    {
     "name": "stdout",
     "output_type": "stream",
     "text": [
      "{'a': 1}\n",
      "{'a': 1, 'b': 2}\n"
     ]
    }
   ],
   "source": [
    "foo = {\n",
    "    \"a\": 1\n",
    "}\n",
    "bar = {\n",
    "    \"b\": 2\n",
    "}\n",
    "\n",
    "baz = foo\n",
    "print(baz)\n",
    "\n",
    "foo.update(bar)\n",
    "print(baz)"
   ]
  },
  {
   "cell_type": "code",
   "execution_count": 3,
   "metadata": {},
   "outputs": [
    {
     "name": "stdout",
     "output_type": "stream",
     "text": [
      "{'a': 1}\n",
      "{'a': 1, 'b': 2}\n"
     ]
    }
   ],
   "source": [
    "a = { \"a\": 1}\n",
    "def foo(data):\n",
    "    return data\n",
    "\n",
    "b = { \"b\": 2}\n",
    "def bar():\n",
    "    data = { \"b\": 2 }\n",
    "    return data\n",
    "\n",
    "c = dict(**a, **b)\n",
    "\n",
    "print(a)\n",
    "print(c)"
   ]
  },
  {
   "cell_type": "code",
   "execution_count": 5,
   "metadata": {},
   "outputs": [],
   "source": [
    "_base_element = {\n",
    "    \"type\": \"list\",\n",
    "    \"schema\": {\n",
    "        \"type\": \"dict\",\n",
    "        \"schema\": {\n",
    "            \"requires\": {\"type\": \"list\", \"schema\": {\"type\": \"string\"}},\n",
    "            \"optionals\": {\"type\": \"list\", \"schema\": {\"type\": \"string\"}},\n",
    "            \"command\": {\"type\": [\"string\", \"boolean\"]},\n",
    "            \"init\": {\"type\": \"list\", \"schema\": {\"type\": \"string\"}},\n",
    "            \"config\": {\"type\": \"list\", \"schema\": {\"type\": \"string\"}},\n",
    "        },\n",
    "    },\n",
    "}\n",
    "\n",
    "_file_and_folder_block = {\n",
    "    \"type\": \"list\",\n",
    "    \"schema\": {\n",
    "        \"type\": \"dict\",\n",
    "        \"schema\": {\n",
    "            \"owner\": {\"type\": \"string\"},\n",
    "            \"permission\": {\"type\": \"string\"},\n",
    "            \"parent_dir\": {\"type\": \"string\"},\n",
    "        },\n",
    "    },\n",
    "}\n",
    "\n",
    "c = dict(_base_element, **_file_and_folder_block)"
   ]
  },
  {
   "cell_type": "code",
   "execution_count": 27,
   "metadata": {},
   "outputs": [
    {
     "name": "stdout",
     "output_type": "stream",
     "text": [
      "4421086176\n",
      "4421086176\n"
     ]
    }
   ],
   "source": [
    "# reload(m)\n",
    "a = m.schema()\n",
    "print(id(a))\n",
    "print(id(m.schema()))"
   ]
  },
  {
   "cell_type": "code",
   "execution_count": null,
   "metadata": {},
   "outputs": [],
   "source": [
    "# reload(m)\n",
    "\n",
    "\n",
    "\n",
    "def foo():\n",
    "    data = { \"a\": 1 }\n",
    "    print(id(data))\n",
    "    return data\n",
    "\n",
    "def bar():\n",
    "    return { \"b\": 2 }\n",
    "\n",
    "def main():\n",
    "    a = foo()\n",
    "    print(id(a))\n",
    "    b = bar()\n",
    "    a.update(b)\n",
    "    print(id(a))\n",
    "    return a\n",
    "\n",
    "c = main()\n",
    "# print(id(c))\n",
    "\n",
    "# print(foo())\n",
    "print(id(c))\n",
    "# print(id(main()))"
   ]
  },
  {
   "cell_type": "code",
   "execution_count": 119,
   "metadata": {},
   "outputs": [
    {
     "name": "stdout",
     "output_type": "stream",
     "text": [
      "4452776752\n"
     ]
    }
   ],
   "source": [
    "def foo():\n",
    "    return \"HI\"\n",
    "\n",
    "print(id(foo()))"
   ]
  },
  {
   "cell_type": "code",
   "execution_count": 204,
   "metadata": {},
   "outputs": [
    {
     "name": "stdout",
     "output_type": "stream",
     "text": [
      "{\n",
      " \"type\": \"string\",\n",
      " \"nullable\": true\n",
      "}\n"
     ]
    }
   ],
   "source": [
    "reload(m)\n",
    "\n",
    "import json\n",
    "print(json.dumps(m.schema()[\"platforms\"][\"schema\"][\"schema\"][\"apps\"][\"schema\"][\"schema\"][\"display\"], indent=1))"
   ]
  },
  {
   "cell_type": "code",
   "execution_count": 217,
   "metadata": {},
   "outputs": [
    {
     "name": "stdout",
     "output_type": "stream",
     "text": [
      "{'alias': {'type': 'string'}, 'name': {'type': 'string', 'required': True}, 'display': {'type': ['string', 'boolean']}}\n"
     ]
    }
   ],
   "source": [
    "reload(m)\n",
    "name = m._name_element()\n",
    "name[\"display\"][\"type\"] = [ \"string\", \"boolean\"]\n",
    "print(name)"
   ]
  },
  {
   "cell_type": "code",
   "execution_count": 24,
   "metadata": {},
   "outputs": [],
   "source": [
    "\n",
    "from devinstaller import models as m\n",
    "from typing import Dict\n",
    "\n",
    "\n",
    "def _get_code_name(input_data):\n",
    "    if \"alias\" in input_data:\n",
    "        return input_data[\"alias\"]\n",
    "    return input_data[\"name\"]\n",
    "\n",
    "def get_installer(full_data: Dict, module_data: Dict) -> str:\n",
    "    if \"command\" in module_data:\n",
    "        return module_data[\"command\"]\n",
    "    if \"installer\" in full_data:\n",
    "        try:\n",
    "            return full_data[\"installer\"].format(name = module_data[\"name\"])\n",
    "        except KeyError:\n",
    "            raise Exception(\"There is parse error\")\n",
    "    raise Exception(\"You can't skip both\")\n",
    "\n",
    "def list_to_dict(input_data, key, module_type) -> Dict[str, m.Module]:\n",
    "    response = {}\n",
    "    for data in input_data[key]:\n",
    "        code_name = _get_code_name(data)\n",
    "        data[\"display\"] = data.get(\"name\", None)\n",
    "        data[\"installed\"] = False\n",
    "        data[\"type\"] = module_type\n",
    "        data[\"command\"] = get_installer(input_data, data)\n",
    "        response[code_name] = m.Module(**data)\n",
    "    return response"
   ]
  },
  {
   "cell_type": "code",
   "execution_count": 25,
   "metadata": {},
   "outputs": [
    {
     "ename": "Exception",
     "evalue": "There is parse error",
     "output_type": "error",
     "traceback": [
      "\u001b[0;31m---------------------------------------------------------------------------\u001b[0m",
      "\u001b[0;31mKeyError\u001b[0m                                  Traceback (most recent call last)",
      "\u001b[0;32m<ipython-input-24-01ebebceebd0>\u001b[0m in \u001b[0;36mget_installer\u001b[0;34m(full_data, module_data)\u001b[0m\n\u001b[1;32m     14\u001b[0m         \u001b[0;32mtry\u001b[0m\u001b[0;34m:\u001b[0m\u001b[0;34m\u001b[0m\u001b[0;34m\u001b[0m\u001b[0m\n\u001b[0;32m---> 15\u001b[0;31m             \u001b[0;32mreturn\u001b[0m \u001b[0mfull_data\u001b[0m\u001b[0;34m[\u001b[0m\u001b[0;34m\"installer\"\u001b[0m\u001b[0;34m]\u001b[0m\u001b[0;34m.\u001b[0m\u001b[0mformat\u001b[0m\u001b[0;34m(\u001b[0m\u001b[0mname\u001b[0m \u001b[0;34m=\u001b[0m \u001b[0mmodule_data\u001b[0m\u001b[0;34m[\u001b[0m\u001b[0;34m\"name\"\u001b[0m\u001b[0;34m]\u001b[0m\u001b[0;34m)\u001b[0m\u001b[0;34m\u001b[0m\u001b[0;34m\u001b[0m\u001b[0m\n\u001b[0m\u001b[1;32m     16\u001b[0m         \u001b[0;32mexcept\u001b[0m \u001b[0mKeyError\u001b[0m\u001b[0;34m:\u001b[0m\u001b[0;34m\u001b[0m\u001b[0;34m\u001b[0m\u001b[0m\n",
      "\u001b[0;31mKeyError\u001b[0m: 'namee'",
      "\nDuring handling of the above exception, another exception occurred:\n",
      "\u001b[0;31mException\u001b[0m                                 Traceback (most recent call last)",
      "\u001b[0;32m<ipython-input-25-fb1e306fb563>\u001b[0m in \u001b[0;36m<module>\u001b[0;34m\u001b[0m\n\u001b[1;32m      3\u001b[0m \u001b[0mkey\u001b[0m \u001b[0;34m=\u001b[0m \u001b[0;34m\"modules\"\u001b[0m\u001b[0;34m\u001b[0m\u001b[0;34m\u001b[0m\u001b[0m\n\u001b[1;32m      4\u001b[0m \u001b[0mmodule_type\u001b[0m \u001b[0;34m=\u001b[0m \u001b[0;34m\"module\"\u001b[0m\u001b[0;34m\u001b[0m\u001b[0;34m\u001b[0m\u001b[0m\n\u001b[0;32m----> 5\u001b[0;31m \u001b[0mresponse\u001b[0m \u001b[0;34m=\u001b[0m \u001b[0mlist_to_dict\u001b[0m\u001b[0;34m(\u001b[0m\u001b[0minput_data\u001b[0m\u001b[0;34m,\u001b[0m \u001b[0mkey\u001b[0m\u001b[0;34m,\u001b[0m \u001b[0mmodule_type\u001b[0m\u001b[0;34m)\u001b[0m\u001b[0;34m\u001b[0m\u001b[0;34m\u001b[0m\u001b[0m\n\u001b[0m\u001b[1;32m      6\u001b[0m \u001b[0mprint\u001b[0m\u001b[0;34m(\u001b[0m\u001b[0mresponse\u001b[0m\u001b[0;34m)\u001b[0m\u001b[0;34m\u001b[0m\u001b[0;34m\u001b[0m\u001b[0m\n",
      "\u001b[0;32m<ipython-input-24-01ebebceebd0>\u001b[0m in \u001b[0;36mlist_to_dict\u001b[0;34m(input_data, key, module_type)\u001b[0m\n\u001b[1;32m     25\u001b[0m         \u001b[0mdata\u001b[0m\u001b[0;34m[\u001b[0m\u001b[0;34m\"installed\"\u001b[0m\u001b[0;34m]\u001b[0m \u001b[0;34m=\u001b[0m \u001b[0;32mFalse\u001b[0m\u001b[0;34m\u001b[0m\u001b[0;34m\u001b[0m\u001b[0m\n\u001b[1;32m     26\u001b[0m         \u001b[0mdata\u001b[0m\u001b[0;34m[\u001b[0m\u001b[0;34m\"type\"\u001b[0m\u001b[0;34m]\u001b[0m \u001b[0;34m=\u001b[0m \u001b[0mmodule_type\u001b[0m\u001b[0;34m\u001b[0m\u001b[0;34m\u001b[0m\u001b[0m\n\u001b[0;32m---> 27\u001b[0;31m         \u001b[0mdata\u001b[0m\u001b[0;34m[\u001b[0m\u001b[0;34m\"command\"\u001b[0m\u001b[0;34m]\u001b[0m \u001b[0;34m=\u001b[0m \u001b[0mget_installer\u001b[0m\u001b[0;34m(\u001b[0m\u001b[0minput_data\u001b[0m\u001b[0;34m,\u001b[0m \u001b[0mdata\u001b[0m\u001b[0;34m)\u001b[0m\u001b[0;34m\u001b[0m\u001b[0;34m\u001b[0m\u001b[0m\n\u001b[0m\u001b[1;32m     28\u001b[0m         \u001b[0mresponse\u001b[0m\u001b[0;34m[\u001b[0m\u001b[0mcode_name\u001b[0m\u001b[0;34m]\u001b[0m \u001b[0;34m=\u001b[0m \u001b[0mm\u001b[0m\u001b[0;34m.\u001b[0m\u001b[0mModule\u001b[0m\u001b[0;34m(\u001b[0m\u001b[0;34m**\u001b[0m\u001b[0mdata\u001b[0m\u001b[0;34m)\u001b[0m\u001b[0;34m\u001b[0m\u001b[0;34m\u001b[0m\u001b[0m\n\u001b[1;32m     29\u001b[0m     \u001b[0;32mreturn\u001b[0m \u001b[0mresponse\u001b[0m\u001b[0;34m\u001b[0m\u001b[0;34m\u001b[0m\u001b[0m\n",
      "\u001b[0;32m<ipython-input-24-01ebebceebd0>\u001b[0m in \u001b[0;36mget_installer\u001b[0;34m(full_data, module_data)\u001b[0m\n\u001b[1;32m     15\u001b[0m             \u001b[0;32mreturn\u001b[0m \u001b[0mfull_data\u001b[0m\u001b[0;34m[\u001b[0m\u001b[0;34m\"installer\"\u001b[0m\u001b[0;34m]\u001b[0m\u001b[0;34m.\u001b[0m\u001b[0mformat\u001b[0m\u001b[0;34m(\u001b[0m\u001b[0mname\u001b[0m \u001b[0;34m=\u001b[0m \u001b[0mmodule_data\u001b[0m\u001b[0;34m[\u001b[0m\u001b[0;34m\"name\"\u001b[0m\u001b[0;34m]\u001b[0m\u001b[0;34m)\u001b[0m\u001b[0;34m\u001b[0m\u001b[0;34m\u001b[0m\u001b[0m\n\u001b[1;32m     16\u001b[0m         \u001b[0;32mexcept\u001b[0m \u001b[0mKeyError\u001b[0m\u001b[0;34m:\u001b[0m\u001b[0;34m\u001b[0m\u001b[0;34m\u001b[0m\u001b[0m\n\u001b[0;32m---> 17\u001b[0;31m             \u001b[0;32mraise\u001b[0m \u001b[0mException\u001b[0m\u001b[0;34m(\u001b[0m\u001b[0;34m\"There is parse error\"\u001b[0m\u001b[0;34m)\u001b[0m\u001b[0;34m\u001b[0m\u001b[0;34m\u001b[0m\u001b[0m\n\u001b[0m\u001b[1;32m     18\u001b[0m     \u001b[0;32mraise\u001b[0m \u001b[0mException\u001b[0m\u001b[0;34m(\u001b[0m\u001b[0;34m\"You can't skip both\"\u001b[0m\u001b[0;34m)\u001b[0m\u001b[0;34m\u001b[0m\u001b[0;34m\u001b[0m\u001b[0m\n\u001b[1;32m     19\u001b[0m \u001b[0;34m\u001b[0m\u001b[0m\n",
      "\u001b[0;31mException\u001b[0m: There is parse error"
     ]
    }
   ],
   "source": [
    "from devinstaller import schema as s\n",
    "input_data = { \"installer\": \"brew install {namee}\", \"modules\": [ { \"name\": \"mod1\" }] }\n",
    "key = \"modules\"\n",
    "module_type = \"module\"\n",
    "response = list_to_dict(input_data, key, module_type)\n",
    "print(response)\n"
   ]
  },
  {
   "cell_type": "code",
   "execution_count": 29,
   "metadata": {},
   "outputs": [
    {
     "ename": "SyntaxError",
     "evalue": "invalid syntax (<ipython-input-29-eb849649593f>, line 4)",
     "output_type": "error",
     "traceback": [
      "\u001b[0;36m  File \u001b[0;32m\"<ipython-input-29-eb849649593f>\"\u001b[0;36m, line \u001b[0;32m4\u001b[0m\n\u001b[0;31m    return input_data.get(\"alias\", input_data.get(\"name\", raise Exception(\"the schema is wrong\")))\u001b[0m\n\u001b[0m                                                              ^\u001b[0m\n\u001b[0;31mSyntaxError\u001b[0m\u001b[0;31m:\u001b[0m invalid syntax\n"
     ]
    }
   ],
   "source": [
    "data = { \"name\": \"foo\", \"alias\": \"bar\" }\n",
    "\n",
    "def _get_code_name(input_data):\n",
    "    return input_data.get(\"alias\", input_data.get(\"name\", raise Exception(\"the schema is wrong\")))\n",
    "\n",
    "_get_code_name(data)"
   ]
  },
  {
   "cell_type": "code",
   "execution_count": 28,
   "metadata": {},
   "outputs": [
    {
     "name": "stdout",
     "output_type": "stream",
     "text": [
      "you cant skip both\n"
     ]
    }
   ],
   "source": [
    "from collections import ChainMap\n",
    "\n",
    "full_data = {}\n",
    "full_data = { \"installerr\": \"brew {name}\" }\n",
    "module_data = { \"name\": \"mod1\" , \"command\": \"spcecial\"}\n",
    "\n",
    "try:\n",
    "    d = module_data.get(\"command\", full_data.get(\"installer\").format(name=module_data[\"name\"]))\n",
    "    print(d)\n",
    "except AttributeError:\n",
    "    print(\"you cant skip both\")\n",
    "except KeyError:\n",
    "    print(\"parse error\")"
   ]
  },
  {
   "cell_type": "code",
   "execution_count": 41,
   "metadata": {},
   "outputs": [
    {
     "name": "stdout",
     "output_type": "stream",
     "text": [
      "<class 'typing_extensions._TypedDictMeta'>\n"
     ]
    }
   ],
   "source": [
    "from typing_extensions import TypedDict\n",
    "\n",
    "class X(TypedDict):\n",
    "    x: int\n",
    "\n",
    "class Y(TypedDict):\n",
    "    y: str\n",
    "\n",
    "class XYZ(X, Y):\n",
    "    z: bool\n",
    "\n",
    "class A(XYZ):\n",
    "    a: str\n",
    "\n",
    "a = XYZ(x=1, y=\"str\", z = True)\n",
    "print(type(A))"
   ]
  }
 ],
 "metadata": {
  "kernelspec": {
   "display_name": "Python 3",
   "language": "python",
   "name": "python3"
  },
  "language_info": {
   "codemirror_mode": {
    "name": "ipython",
    "version": 3
   },
   "file_extension": ".py",
   "mimetype": "text/x-python",
   "name": "python",
   "nbconvert_exporter": "python",
   "pygments_lexer": "ipython3",
   "version": "3.8.3"
  }
 },
 "nbformat": 4,
 "nbformat_minor": 4
}
