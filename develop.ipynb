{
 "cells": [
  {
   "cell_type": "code",
   "execution_count": null,
   "metadata": {},
   "outputs": [],
   "source": [
    "from devinstaller import models as m\n",
    "from devinstaller import yaml_handler as y\n",
    "from importlib import reload\n",
    "from devinstaller import models as m\n",
    "\n",
    "raw_data = y.read(\"sample.devfile.yml\")"
   ]
  },
  {
   "cell_type": "code",
   "execution_count": null,
   "metadata": {},
   "outputs": [],
   "source": [
    "foo = {\n",
    "    \"a\": 1\n",
    "}\n",
    "bar = {\n",
    "    \"b\": 2\n",
    "}\n",
    "\n",
    "baz = foo\n",
    "print(baz)\n",
    "\n",
    "foo.update(bar)\n",
    "print(baz)"
   ]
  },
  {
   "cell_type": "code",
   "execution_count": null,
   "metadata": {},
   "outputs": [],
   "source": [
    "a = { \"a\": 1}\n",
    "def foo(data):\n",
    "    return data\n",
    "\n",
    "b = { \"b\": 2}\n",
    "def bar():\n",
    "    data = { \"b\": 2 }\n",
    "    return data\n",
    "\n",
    "c = dict(**a, **b)\n",
    "\n",
    "print(a)\n",
    "print(c)"
   ]
  },
  {
   "cell_type": "code",
   "execution_count": null,
   "metadata": {},
   "outputs": [],
   "source": [
    "_base_element = {\n",
    "    \"type\": \"list\",\n",
    "    \"schema\": {\n",
    "        \"type\": \"dict\",\n",
    "        \"schema\": {\n",
    "            \"requires\": {\"type\": \"list\", \"schema\": {\"type\": \"string\"}},\n",
    "            \"optionals\": {\"type\": \"list\", \"schema\": {\"type\": \"string\"}},\n",
    "            \"command\": {\"type\": [\"string\", \"boolean\"]},\n",
    "            \"init\": {\"type\": \"list\", \"schema\": {\"type\": \"string\"}},\n",
    "            \"config\": {\"type\": \"list\", \"schema\": {\"type\": \"string\"}},\n",
    "        },\n",
    "    },\n",
    "}\n",
    "\n",
    "_file_and_folder_block = {\n",
    "    \"type\": \"list\",\n",
    "    \"schema\": {\n",
    "        \"type\": \"dict\",\n",
    "        \"schema\": {\n",
    "            \"owner\": {\"type\": \"string\"},\n",
    "            \"permission\": {\"type\": \"string\"},\n",
    "            \"parent_dir\": {\"type\": \"string\"},\n",
    "        },\n",
    "    },\n",
    "}\n",
    "\n",
    "c = dict(_base_element, **_file_and_folder_block)"
   ]
  },
  {
   "cell_type": "code",
   "execution_count": null,
   "metadata": {},
   "outputs": [],
   "source": [
    "# reload(m)\n",
    "a = m.schema()\n",
    "print(id(a))\n",
    "print(id(m.schema()))"
   ]
  },
  {
   "cell_type": "code",
   "execution_count": null,
   "metadata": {},
   "outputs": [],
   "source": [
    "# reload(m)\n",
    "\n",
    "\n",
    "\n",
    "def foo():\n",
    "    data = { \"a\": 1 }\n",
    "    print(id(data))\n",
    "    return data\n",
    "\n",
    "def bar():\n",
    "    return { \"b\": 2 }\n",
    "\n",
    "def main():\n",
    "    a = foo()\n",
    "    print(id(a))\n",
    "    b = bar()\n",
    "    a.update(b)\n",
    "    print(id(a))\n",
    "    return a\n",
    "\n",
    "c = main()\n",
    "# print(id(c))\n",
    "\n",
    "# print(foo())\n",
    "print(id(c))\n",
    "# print(id(main()))"
   ]
  },
  {
   "cell_type": "code",
   "execution_count": null,
   "metadata": {},
   "outputs": [],
   "source": [
    "def foo():\n",
    "    return \"HI\"\n",
    "\n",
    "print(id(foo()))"
   ]
  },
  {
   "cell_type": "code",
   "execution_count": null,
   "metadata": {},
   "outputs": [],
   "source": [
    "reload(m)\n",
    "\n",
    "import json\n",
    "print(json.dumps(m.schema()[\"platforms\"][\"schema\"][\"schema\"][\"apps\"][\"schema\"][\"schema\"][\"display\"], indent=1))"
   ]
  },
  {
   "cell_type": "code",
   "execution_count": null,
   "metadata": {},
   "outputs": [],
   "source": [
    "reload(m)\n",
    "name = m._name_element()\n",
    "name[\"display\"][\"type\"] = [ \"string\", \"boolean\"]\n",
    "print(name)"
   ]
  },
  {
   "cell_type": "code",
   "execution_count": null,
   "metadata": {},
   "outputs": [],
   "source": [
    "\n",
    "from devinstaller import models as m\n",
    "from typing import Dict\n",
    "\n",
    "\n",
    "def _get_code_name(input_data):\n",
    "    if \"alias\" in input_data:\n",
    "        return input_data[\"alias\"]\n",
    "    return input_data[\"name\"]\n",
    "\n",
    "def get_installer(full_data: Dict, module_data: Dict) -> str:\n",
    "    if \"command\" in module_data:\n",
    "        return module_data[\"command\"]\n",
    "    if \"installer\" in full_data:\n",
    "        try:\n",
    "            return full_data[\"installer\"].format(name = module_data[\"name\"])\n",
    "        except KeyError:\n",
    "            raise Exception(\"There is parse error\")\n",
    "    raise Exception(\"You can't skip both\")\n",
    "\n",
    "def list_to_dict(input_data, key, module_type) -> Dict[str, m.Module]:\n",
    "    response = {}\n",
    "    for data in input_data[key]:\n",
    "        code_name = _get_code_name(data)\n",
    "        data[\"display\"] = data.get(\"name\", None)\n",
    "        data[\"installed\"] = False\n",
    "        data[\"type\"] = module_type\n",
    "        data[\"command\"] = get_installer(input_data, data)\n",
    "        response[code_name] = m.Module(**data)\n",
    "    return response"
   ]
  },
  {
   "cell_type": "code",
   "execution_count": null,
   "metadata": {},
   "outputs": [],
   "source": [
    "from devinstaller import schema as s\n",
    "input_data = { \"installer\": \"brew install {namee}\", \"modules\": [ { \"name\": \"mod1\" }] }\n",
    "key = \"modules\"\n",
    "module_type = \"module\"\n",
    "response = list_to_dict(input_data, key, module_type)\n",
    "print(response)\n"
   ]
  },
  {
   "cell_type": "code",
   "execution_count": null,
   "metadata": {},
   "outputs": [],
   "source": [
    "data = { \"name\": \"foo\", \"alias\": \"bar\" }\n",
    "\n",
    "def _get_code_name(input_data):\n",
    "    return input_data.get(\"alias\", input_data.get(\"name\", raise Exception(\"the schema is wrong\")))\n",
    "\n",
    "_get_code_name(data)"
   ]
  },
  {
   "cell_type": "code",
   "execution_count": null,
   "metadata": {},
   "outputs": [],
   "source": [
    "from collections import ChainMap\n",
    "\n",
    "full_data = {}\n",
    "full_data = { \"installerr\": \"brew {name}\" }\n",
    "module_data = { \"name\": \"mod1\" , \"command\": \"spcecial\"}\n",
    "\n",
    "try:\n",
    "    d = module_data.get(\"command\", full_data.get(\"installer\").format(name=module_data[\"name\"]))\n",
    "    print(d)\n",
    "except AttributeError:\n",
    "    print(\"you cant skip both\")\n",
    "except KeyError:\n",
    "    print(\"parse error\")"
   ]
  },
  {
   "cell_type": "code",
   "execution_count": null,
   "metadata": {},
   "outputs": [],
   "source": [
    "from typing_extensions import TypedDict\n",
    "\n",
    "class X(TypedDict):\n",
    "    x: int\n",
    "\n",
    "class Y(TypedDict):\n",
    "    y: str\n",
    "\n",
    "class XYZ(X, Y):\n",
    "    z: bool\n",
    "\n",
    "class A(XYZ):\n",
    "    a: str\n",
    "\n",
    "a = XYZ(x=1, y=\"str\", z = True)\n",
    "print(type(A))"
   ]
  },
  {
   "cell_type": "code",
   "execution_count": null,
   "metadata": {},
   "outputs": [],
   "source": [
    "import platform\n",
    "\n",
    "platform.architecture()"
   ]
  },
  {
   "cell_type": "code",
   "execution_count": null,
   "metadata": {},
   "outputs": [],
   "source": [
    "platform.machine()"
   ]
  },
  {
   "cell_type": "code",
   "execution_count": null,
   "metadata": {},
   "outputs": [],
   "source": [
    "platform.node()"
   ]
  },
  {
   "cell_type": "code",
   "execution_count": null,
   "metadata": {},
   "outputs": [],
   "source": [
    "platform.platform()"
   ]
  },
  {
   "cell_type": "code",
   "execution_count": null,
   "metadata": {},
   "outputs": [],
   "source": [
    "platform.release()"
   ]
  },
  {
   "cell_type": "code",
   "execution_count": null,
   "metadata": {},
   "outputs": [],
   "source": [
    "platform.version()"
   ]
  },
  {
   "cell_type": "code",
   "execution_count": null,
   "metadata": {},
   "outputs": [],
   "source": [
    "platform.system()"
   ]
  },
  {
   "cell_type": "code",
   "execution_count": null,
   "metadata": {},
   "outputs": [],
   "source": [
    "platform.uname()"
   ]
  },
  {
   "cell_type": "code",
   "execution_count": null,
   "metadata": {},
   "outputs": [],
   "source": [
    "exp = platform.mac_ver()"
   ]
  },
  {
   "cell_type": "code",
   "execution_count": null,
   "metadata": {},
   "outputs": [],
   "source": [
    "\n",
    "def compare_strings(*args) -> bool:\n",
    "    if len({v.casefold() for v in args}) != 1:\n",
    "        return False\n",
    "    return True\n"
   ]
  },
  {
   "cell_type": "code",
   "execution_count": null,
   "metadata": {},
   "outputs": [],
   "source": [
    "compare_strings(\"dar\")"
   ]
  },
  {
   "cell_type": "code",
   "execution_count": null,
   "metadata": {},
   "outputs": [],
   "source": [
    "foo = {\n",
    "    \"1\": \"a\"\n",
    "}\n",
    "\n",
    "bar = {}\n",
    "bar[\"1\"] = foo.get(\"2\", foo[\"2\"])"
   ]
  },
  {
   "cell_type": "code",
   "execution_count": null,
   "metadata": {},
   "outputs": [],
   "source": [
    "def get_values(*args):\n",
    "    for i in args:\n",
    "        "
   ]
  },
  {
   "cell_type": "code",
   "execution_count": null,
   "metadata": {},
   "outputs": [],
   "source": [
    "def foo():\n",
    "    data = {\n",
    "        \"foo\": \"Foo\"\n",
    "    }\n",
    "    return data\n",
    "\n",
    "def bar():\n",
    "    data = {\n",
    "        \"foo\": foo(),\n",
    "        \"bar\": \"bar\"\n",
    "    }\n",
    "    return data\n",
    "\n",
    "bar()"
   ]
  },
  {
   "cell_type": "code",
   "execution_count": null,
   "metadata": {},
   "outputs": [],
   "source": [
    "from pick import pick\n",
    "\n",
    "title = 'Please choose your favorite programming language (press SPACE to mark, ENTER to continue): '\n",
    "options = ['Java', 'JavaScript', 'Python', 'PHP', 'C++', 'Erlang', 'Haskell']\n",
    "selection = pick(options, title, multiselect=True, min_selection_count=1)"
   ]
  },
  {
   "cell_type": "code",
   "execution_count": null,
   "metadata": {},
   "outputs": [],
   "source": [
    "selection = [('Java', 0), ('Python', 2), ('C++', 4)]\n",
    "response = []\n",
    "for s in selection:\n",
    "    index = s[1]\n",
    "    resposne.append[select]"
   ]
  },
  {
   "cell_type": "code",
   "execution_count": null,
   "metadata": {},
   "outputs": [],
   "source": [
    "foo = {\n",
    "    \"1\": \"foo\",\n",
    "    \"2\": \"bar\",\n",
    "    \"3\": \"baz\"\n",
    "}\n",
    "type(list(foo.values()))"
   ]
  },
  {
   "cell_type": "code",
   "execution_count": null,
   "metadata": {},
   "outputs": [],
   "source": [
    "import json\n",
    "from devinstaller import exceptions as e\n",
    "import pprint as p\n",
    "# p.pprint(e.rules)\n",
    "# p.pformat(e.rules)\n",
    "rules = {\n",
    "    100: (\n",
    "        \"You didn't provide the name of the current platform and I couldn't \"\n",
    "        \"figure it out either.\"\n",
    "    ),\n",
    "    101: (\n",
    "        \"You didn't provide the name of the preset you want to install and I \"\n",
    "        \"didn't found the name of the default preset in the spec.\"\n",
    "    ),\n",
    "    102: (\n",
    "        \"The name of the preset you gave through the cli didn't match with \"\n",
    "        \"any preset in the spec file.\"\n",
    "    ),\n",
    "    103: (\n",
    "        \"The name of the default preset present in the spec didn't match \"\n",
    "        \"with any preset in the file.\"\n",
    "    ),\n",
    "    104: (\"There is an module record missing in a `required` list of another module.\"),\n",
    "    105: (\n",
    "        \"Library usage: You need to provide either the `schema__object` or the path to the spec file.\"\n",
    "    ),\n",
    "    106: \"The name of the platform specified in the modules didn't match up with the ones defined in the `platforms` block.\",\n",
    "}\n",
    "for key, value in e.rules.items():\n",
    "  print(\"\\n\")\n",
    "  print(f\".. _errorcode{key}:\")\n",
    "  print(f\"Error code {key}\")\n",
    "  print(\"------------------\")\n",
    "  print(f\"{value}\")"
   ]
  },
  {
   "cell_type": "code",
   "execution_count": null,
   "metadata": {},
   "outputs": [],
   "source": [
    "import re\n",
    "pattern = r\"^(url|file): (.*)\"\n",
    "result = re.match(pattern, \"asdf\")\n",
    "assert result is not None\n",
    "method = result.group(1)\n"
   ]
  },
  {
   "cell_type": "code",
   "execution_count": null,
   "metadata": {},
   "outputs": [],
   "source": [
    "import hashlib\n",
    "input_str = \"Nobody inspects the spammish repetition\"\n",
    "hashlib.sha256(input_str.encode('utf-8')).hexdigest()"
   ]
  },
  {
   "cell_type": "code",
   "execution_count": null,
   "metadata": {},
   "outputs": [],
   "source": [
    "d = {\n",
    "    \"foo\": \"var\"\n",
    "}\n",
    "str(d)"
   ]
  },
  {
   "cell_type": "code",
   "execution_count": null,
   "metadata": {},
   "outputs": [],
   "source": [
    "from devinstaller import exceptions as e\n",
    "for key, value in e.spec_errors.items():\n",
    "  print(\"\\n\")\n",
    "  print(f\".. _error-code-{key}:\")\n",
    "  print(f\"\\n{key}\")\n",
    "  print(\"==================\")\n",
    "  print(f\"{value}\")\n"
   ]
  },
  {
   "cell_type": "code",
   "execution_count": null,
   "metadata": {},
   "outputs": [],
   "source": [
    "from devinstaller import file_handler as f\n",
    "import os\n",
    "file_contents = str(f.read(\"sample.devfile.yml\"))\n",
    "warn()\n",
    "f1 = f.parse_and_download(\"file: sample.devfile.yml\")\n",
    "f2 = f.parse_and_download(\"~/projects/devinstaller/sample.devfile.yml\")"
   ]
  },
  {
   "cell_type": "code",
   "execution_count": null,
   "metadata": {},
   "outputs": [],
   "source": [
    "import pick\n",
    "title = \"Do you mind selecting one?\"\n",
    "options = [ \"First one\", \"Second one\" ]\n",
    "pick.pick(options, title)\n"
   ]
  },
  {
   "cell_type": "code",
   "execution_count": null,
   "metadata": {},
   "outputs": [],
   "source": [
    "from importlib import reload\n",
    "from devinstaller import models as m\n",
    "reload(m)\n",
    "\n",
    "foo = {\n",
    "    \"name\": \"asdf\",\n",
    "    \"module_type\": \"phony\",\n",
    "    \"installed\": False,\n",
    "    \"alias\": \"asdf\",\n",
    "    \"display\": \"Asdf\",\n",
    "    \"asdf\": \"fo\"\n",
    "}\n",
    "\n",
    "list(foo.keys())"
   ]
  },
  {
   "cell_type": "code",
   "execution_count": null,
   "metadata": {},
   "outputs": [],
   "source": [
    "data = [m.Module(\"foo\", \"app\", False, \"foo\", \"foo\"),\n",
    "m.Module(\"bar\", \"app\", False, \"bar\", \"bar\"),\n",
    "]\n",
    "from devinstaller import app\n",
    "\n",
    "app.ask_user_for_the_requirement_list(data)"
   ]
  },
  {
   "cell_type": "code",
   "execution_count": null,
   "metadata": {},
   "outputs": [],
   "source": [
    "from dataclasses import dataclass\n",
    "from typing import Dict, List, Optional, TypedDict, Any, NewType\n",
    "\n",
    "\n",
    "@dataclass\n",
    "class ModuleInstallField:\n",
    "    install: str\n",
    "    rollback: Optional[str] = None\n",
    "\n",
    "@dataclass\n",
    "class Module:\n",
    "    \"\"\"The class which will be used by all the modules\n",
    "    \"\"\"\n",
    "\n",
    "    # pylint: disable=too-many-instance-attributes\n",
    "    name: str\n",
    "    module_type: str\n",
    "    installed: bool\n",
    "    commands: List[ModuleInstallField]\n",
    "\n",
    "data = {\n",
    "    \"name\": \"foo\",\n",
    "    \"module_type\": \"app\",\n",
    "    \"installed\": False,\n",
    "    \"commands\": [\n",
    "        {\n",
    "            \"install\": \"install command 1\",\n",
    "            \"rollback\": \"rollback command 1\"\n",
    "        },\n",
    "        {\n",
    "            \"install\": \"install command 2\",\n",
    "            \"rollback\": \"rollback command 2\"\n",
    "        },\n",
    "{\n",
    "            \"install\": \"install command 3\",\n",
    "            \"rollback\": \"rollback command 3\"\n",
    "        },\n",
    "\n",
    "            \"install command 4\",\n",
    "    ]\n",
    "}\n",
    "\n",
    "for i in data[\"commands\"]:\n",
    "    print(type(i))\n",
    "    \n",
    "data[\"commands\"] = [ ModuleInstallField(**i) for i in data[\"commands\"]]\n",
    "\n",
    "d = Module(**data)"
   ]
  },
  {
   "cell_type": "code",
   "execution_count": null,
   "metadata": {},
   "outputs": [],
   "source": [
    "\n",
    "\n",
    "import cerberus\n",
    "\n",
    "schema = {\n",
    "    \"quotes\": {\n",
    "        \"type\": [\"string\", \"dict\"],\n",
    "        \"schema\": {\"install\": {\"type\": \"string\"}, \"rollback\": {\"type\": \"string\"}},\n",
    "    }\n",
    "}\n",
    "schema = {\n",
    "    \"module_type\": {\n",
    "        \"type\": \"string\",\n",
    "        \"default\": \"phony\",\n",
    "         \"allowed\": [\"app\", \"file\", \"folder\", \"link\", \"group\", \"phony\"],\n",
    "    }\n",
    "}\n",
    "\n",
    "document = {}\n",
    "\n",
    "_v = cerberus.Validator(schema)\n",
    "if _v.validate(document):\n",
    "    print(_v.document)"
   ]
  },
  {
   "cell_type": "code",
   "execution_count": null,
   "metadata": {},
   "outputs": [],
   "source": [
    "data = {\n",
    "    \"foo\": \"bar\"\n",
    "}\n",
    "\n",
    "temp = dict(**data)\n",
    "temp[\"bar\"] = \"baz\"\n",
    "temp"
   ]
  },
  {
   "cell_type": "code",
   "execution_count": null,
   "metadata": {},
   "outputs": [],
   "source": [
    "from devinstaller import schema as s\n",
    "from importlib import reload\n",
    "\n",
    "reload(s)\n",
    "data = {\n",
    "    \"name\": \"foo\",\n",
    "    \"alias\": \"bar\",\n",
    "    \"module_type\": \"app\",\n",
    "}\n",
    "\n",
    "temp = {\"foo1\": \"bar\", \"bar\": \"baz\"}\n",
    "\n",
    "s.create_module(data)\n",
    "# s.remove_key_from_dict(temp, \"foo\")"
   ]
  },
  {
   "cell_type": "code",
   "execution_count": null,
   "metadata": {},
   "outputs": [],
   "source": [
    "from devinstaller import schema as s\n",
    "from devinstaller import models as m\n",
    "reload(s)\n",
    "reload(m)\n",
    "s.validate({\"name\": \"v1\"})"
   ]
  },
  {
   "cell_type": "code",
   "execution_count": null,
   "metadata": {},
   "outputs": [],
   "source": [
    "with open('README.mdA') as f:\n",
    "    read_data = f.read()\n",
    "    print(type(read_data))"
   ]
  },
  {
   "cell_type": "code",
   "execution_count": null,
   "metadata": {},
   "outputs": [],
   "source": [
    "from devinstaller import file_handler as f\n",
    "from importlib import reload\n",
    "reload(f)\n",
    "\n",
    "foo = { \"url\": f.read_file_and_parse}\n",
    "foo[\"url\"](\"sample.devfile.yml\")"
   ]
  },
  {
   "cell_type": "code",
   "execution_count": null,
   "metadata": {},
   "outputs": [],
   "source": [
    "from devinstaller import commands as c\n",
    "reload(c)\n",
    "c.run(\"python --versiona\")"
   ]
  },
  {
   "cell_type": "code",
   "execution_count": null,
   "metadata": {},
   "outputs": [],
   "source": [
    "a = [\n",
    "    \"1\", \"2\"\n",
    "]\n",
    "b = None\n",
    "c = \"4\"\n",
    "def append_if_not_none(*data):\n",
    "    temp_list = []\n",
    "    breakpoint()\n",
    "    for i in data:\n",
    "        if i is not None:\n",
    "            if isinstance(i, list):\n",
    "                temp_list += i\n",
    "            else:\n",
    "                temp_list.append(i)\n",
    "    return temp_list\n",
    "print(append_if_not_none(a, b, c))"
   ]
  },
  {
   "cell_type": "code",
   "execution_count": null,
   "metadata": {},
   "outputs": [],
   "source": [
    "data = [\n",
    "    m.ModuleInstallInstruction(\"0\"),\n",
    "    m.ModuleInstallInstruction(\"1\"),\n",
    "    m.ModuleInstallInstruction(\"2\"),\n",
    "    m.ModuleInstallInstruction(\"fail\"),\n",
    "    m.ModuleInstallInstruction(\"4\"),\n",
    "    m.ModuleInstallInstruction(\"5\"),\n",
    "    m.ModuleInstallInstruction(\"6\"),\n",
    "    m.ModuleInstallInstruction(\"7\"),\n",
    "    m.ModuleInstallInstruction(\"8\"),\n",
    "    m.ModuleInstallInstruction(\"9\"),\n",
    "]\n",
    "\n",
    "for index, step in enumerate(data):\n",
    "    # print(step.install)\n",
    "    # print(index)\n",
    "    if step.install == \"fail\":\n",
    "        break\n",
    "rev_list = data[:index]\n",
    "rev_list.reverse()\n",
    "print(rev_list)"
   ]
  },
  {
   "cell_type": "code",
   "execution_count": null,
   "metadata": {},
   "outputs": [],
   "source": [
    "import sys\n",
    "print(\"hello\")\n",
    "sys.exit({\"error\": \"he\"})"
   ]
  },
  {
   "cell_type": "code",
   "execution_count": null,
   "metadata": {},
   "outputs": [],
   "source": [
    "from devinstaller import file_handler as f\n",
    "reload(f)\n",
    "toml = \"\"\"\n",
    "version = \"v1\"\n",
    "\n",
    "[[modules]]\n",
    "name = \"foo\"\n",
    "module_type = \"app\"\n",
    "supported_platforms = [\n",
    "\"macos\"\n",
    "]\n",
    "\n",
    "[[modules]]\n",
    "name = \"bar\"\n",
    "module_type = \"app\"\n",
    "\"\"\"\n",
    "type(f.parse_contents(toml))"
   ]
  },
  {
   "cell_type": "code",
   "execution_count": null,
   "metadata": {},
   "outputs": [],
   "source": [
    "import anymarkup\n",
    "anymarkup.parse('foo: bar')"
   ]
  },
  {
   "cell_type": "code",
   "execution_count": null,
   "metadata": {},
   "outputs": [],
   "source": [
    "file_str = \"tests/data/schema/platform_schema.json\"\n",
    "file_str.split(\".\")[-1]"
   ]
  },
  {
   "cell_type": "code",
   "execution_count": null,
   "metadata": {},
   "outputs": [],
   "source": [
    "d = [\"a\", \"b\"]\n",
    "status = \"failed\"\n",
    "for i in d and status != \"failed\":\n",
    "    print(i)"
   ]
  },
  {
   "cell_type": "code",
   "execution_count": 39,
   "metadata": {},
   "outputs": [
    {
     "data": {
      "text/plain": [
       "'b, c, d, a'"
      ]
     },
     "execution_count": 39,
     "metadata": {},
     "output_type": "execute_result"
    }
   ],
   "source": [
    "orphan_list = set()\n",
    "f = {\"d\", \"c\", \"f\"}\n",
    "orphan_list.add(\"a\")\n",
    "orphan_list.update([\"a\", \"b\", \"c\", \"d\"])\n",
    "orphan_list.update()\n",
    "\", \".join(e for e in orphan_list)"
   ]
  },
  {
   "cell_type": "code",
   "execution_count": 41,
   "metadata": {},
   "outputs": [],
   "source": [
    "for i in []:\n",
    "    print(i)"
   ]
  },
  {
   "cell_type": "code",
   "execution_count": 42,
   "metadata": {},
   "outputs": [
    {
     "name": "stdout",
     "output_type": "stream",
     "text": [
      "Installing module: c...\n",
      "Installing module: d...\n",
      "Installing module: b...\n",
      "Installing module: a...\n"
     ]
    },
    {
     "data": {
      "text/plain": [
       "set()"
      ]
     },
     "execution_count": 42,
     "metadata": {},
     "output_type": "execute_result"
    }
   ],
   "source": [
    "from devinstaller import installer as i\n",
    "from devinstaller import models as m\n",
    "from importlib import reload\n",
    "\n",
    "reload(m)\n",
    "reload(i)\n",
    "module_map = {\n",
    "    \"a\": m.Module(\n",
    "        name=\"a\",\n",
    "        module_type=\"app\",\n",
    "        requires=[\"c\"],\n",
    "        optionals=[\"d\", \"b\"],\n",
    "        alias=\"a\",\n",
    "        display=\"a\",\n",
    "    ),\n",
    "    \"b\": m.Module(\n",
    "        name=\"b\", module_type=\"app\", optionals=[\"d\"], alias=\"b\", display=\"b\"\n",
    "    ),\n",
    "    \"c\": m.Module(name=\"c\", module_type=\"app\", alias=\"c\", display=\"c\"),\n",
    "    \"d\": m.Module(name=\"d\", module_type=\"app\", alias=\"d\", display=\"d\"),\n",
    "}\n",
    "\n",
    "orphan_list = set()\n",
    "i.traverse(module_map=module_map, module_name=\"a\", orphan_list=orphan_list)\n"
   ]
  },
  {
   "cell_type": "code",
   "execution_count": null,
   "metadata": {},
   "outputs": [],
   "source": [
    "import urllib.request\n",
    "\n",
    "print('Beginning file download with urllib2...')\n",
    "\n",
    "url = 'https://gitlab.com/devinstaller/devinstaller/-/raw/master/sample.devfile.yml'\n",
    "urllib.request.urlretrieve(url, 'temp.yml')"
   ]
  },
  {
   "cell_type": "code",
   "execution_count": null,
   "metadata": {},
   "outputs": [],
   "source": [
    "from requests import get\n",
    "\n",
    "\n",
    "def download(url, file_name):\n",
    "    with open(file_name, \"wb\") as file:\n",
    "        response = get(url)\n",
    "        print(response.content.decode(\"utf-8\"))\n",
    "        file.write(response.content)\n",
    "\n",
    "url = 'https://gitlab.com/devinstaller/devinstaller/-/raw/master/sample.devfile.yml'\n",
    "download(url, \"temp.yml\")"
   ]
  },
  {
   "cell_type": "code",
   "execution_count": 2,
   "metadata": {},
   "outputs": [
    {
     "name": "stdout",
     "output_type": "stream",
     "text": [
      "b\n"
     ]
    },
    {
     "ename": "NotImplementedError",
     "evalue": "",
     "output_type": "error",
     "traceback": [
      "\u001b[0;31m---------------------------------------------------------------------------\u001b[0m",
      "\u001b[0;31mNotImplementedError\u001b[0m                       Traceback (most recent call last)",
      "\u001b[0;32m<ipython-input-2-77a482fb2a07>\u001b[0m in \u001b[0;36m<module>\u001b[0;34m\u001b[0m\n\u001b[1;32m      5\u001b[0m \u001b[0ma\u001b[0m \u001b[0;34m=\u001b[0m \u001b[0mm\u001b[0m\u001b[0;34m.\u001b[0m\u001b[0mAppModule\u001b[0m\u001b[0;34m(\u001b[0m\u001b[0mname\u001b[0m\u001b[0;34m=\u001b[0m\u001b[0;34m\"b\"\u001b[0m\u001b[0;34m,\u001b[0m \u001b[0mmodule_type\u001b[0m\u001b[0;34m=\u001b[0m\u001b[0;34m\"app\"\u001b[0m\u001b[0;34m,\u001b[0m \u001b[0moptionals\u001b[0m\u001b[0;34m=\u001b[0m\u001b[0;34m[\u001b[0m\u001b[0;34m\"d\"\u001b[0m\u001b[0;34m]\u001b[0m\u001b[0;34m,\u001b[0m \u001b[0malias\u001b[0m\u001b[0;34m=\u001b[0m\u001b[0;34m\"b\"\u001b[0m\u001b[0;34m,\u001b[0m \u001b[0mdisplay\u001b[0m\u001b[0;34m=\u001b[0m\u001b[0;34m\"b\"\u001b[0m\u001b[0;34m)\u001b[0m\u001b[0;34m\u001b[0m\u001b[0;34m\u001b[0m\u001b[0m\n\u001b[1;32m      6\u001b[0m \u001b[0mprint\u001b[0m\u001b[0;34m(\u001b[0m\u001b[0mstr\u001b[0m\u001b[0;34m(\u001b[0m\u001b[0ma\u001b[0m\u001b[0;34m)\u001b[0m\u001b[0;34m)\u001b[0m\u001b[0;34m\u001b[0m\u001b[0;34m\u001b[0m\u001b[0m\n\u001b[0;32m----> 7\u001b[0;31m \u001b[0ma\u001b[0m\u001b[0;34m.\u001b[0m\u001b[0minstall\u001b[0m\u001b[0;34m(\u001b[0m\u001b[0;34m)\u001b[0m\u001b[0;34m\u001b[0m\u001b[0;34m\u001b[0m\u001b[0m\n\u001b[0m",
      "\u001b[0;32m~/projects/devinstaller/devinstaller/base_module.py\u001b[0m in \u001b[0;36minstall\u001b[0;34m(self)\u001b[0m\n\u001b[1;32m     32\u001b[0m \u001b[0;34m\u001b[0m\u001b[0m\n\u001b[1;32m     33\u001b[0m     \u001b[0;32mdef\u001b[0m \u001b[0minstall\u001b[0m\u001b[0;34m(\u001b[0m\u001b[0mself\u001b[0m\u001b[0;34m)\u001b[0m \u001b[0;34m->\u001b[0m \u001b[0;32mNone\u001b[0m\u001b[0;34m:\u001b[0m\u001b[0;34m\u001b[0m\u001b[0;34m\u001b[0m\u001b[0m\n\u001b[0;32m---> 34\u001b[0;31m         \u001b[0;32mraise\u001b[0m \u001b[0mNotImplementedError\u001b[0m\u001b[0;34m\u001b[0m\u001b[0;34m\u001b[0m\u001b[0m\n\u001b[0m",
      "\u001b[0;31mNotImplementedError\u001b[0m: "
     ]
    }
   ],
   "source": [
    "from devinstaller import models as m\n",
    "from importlib import reload\n",
    "reload(m)\n",
    "\n",
    "a = m.AppModule(name=\"b\", module_type=\"app\", optionals=[\"d\"], alias=\"b\", display=\"b\")\n",
    "print(str(a))\n",
    "a.install()"
   ]
  },
  {
   "cell_type": "code",
   "execution_count": 12,
   "metadata": {},
   "outputs": [
    {
     "data": {
      "text/plain": [
       "AppModule(name='name a', alias='alias a', display='display a', description=None, url=None, command=ModuleInstallInstruction(install='install comd', rollback=None), config=None, executable=None, init=None, optionals=None, requires=None, status=None, version=None)"
      ]
     },
     "execution_count": 12,
     "metadata": {},
     "output_type": "execute_result"
    }
   ],
   "source": [
    "from devinstaller import models as m\n",
    "\n",
    "command = \"config1\"\n",
    "\n",
    "m.AppModule(alias=\"alias a\", display=\"display a\", name=\"name a\", command={\"install\": \"install comd\"})"
   ]
  },
  {
   "cell_type": "code",
   "execution_count": 11,
   "metadata": {},
   "outputs": [
    {
     "ename": "ValidationError",
     "evalue": "1 validation error for ModuleInstallInstruction\ninstall\n  str type expected (type=type_error.str)",
     "output_type": "error",
     "traceback": [
      "\u001b[0;31m---------------------------------------------------------------------------\u001b[0m",
      "\u001b[0;31mValidationError\u001b[0m                           Traceback (most recent call last)",
      "\u001b[0;32m<ipython-input-11-c227d7bf138c>\u001b[0m in \u001b[0;36m<module>\u001b[0;34m\u001b[0m\n\u001b[1;32m      1\u001b[0m \u001b[0;32mfrom\u001b[0m \u001b[0mdevinstaller\u001b[0m \u001b[0;32mimport\u001b[0m \u001b[0mbase_module\u001b[0m \u001b[0;32mas\u001b[0m \u001b[0mb\u001b[0m\u001b[0;34m\u001b[0m\u001b[0;34m\u001b[0m\u001b[0m\n\u001b[1;32m      2\u001b[0m \u001b[0;34m\u001b[0m\u001b[0m\n\u001b[0;32m----> 3\u001b[0;31m \u001b[0mb\u001b[0m\u001b[0;34m.\u001b[0m\u001b[0mModuleInstallInstruction\u001b[0m\u001b[0;34m(\u001b[0m\u001b[0;34m{\u001b[0m\u001b[0;34m\"install\"\u001b[0m\u001b[0;34m:\u001b[0m \u001b[0;34m\"install command\"\u001b[0m\u001b[0;34m,\u001b[0m \u001b[0;34m\"rollback\"\u001b[0m\u001b[0;34m:\u001b[0m \u001b[0;34m\"rollvack com\"\u001b[0m\u001b[0;34m}\u001b[0m\u001b[0;34m)\u001b[0m\u001b[0;34m\u001b[0m\u001b[0;34m\u001b[0m\u001b[0m\n\u001b[0m",
      "\u001b[0;32m~/projects/devinstaller/devinstaller/base_module.py\u001b[0m in \u001b[0;36m__init__\u001b[0;34m(self, install, rollback)\u001b[0m\n",
      "\u001b[0;32m~/Library/Caches/pypoetry/virtualenvs/devinstaller-Kl10Z9mx-py3.8/lib/python3.8/site-packages/pydantic/dataclasses.cpython-38-darwin.so\u001b[0m in \u001b[0;36mpydantic.dataclasses._process_class._pydantic_post_init\u001b[0;34m()\u001b[0m\n",
      "\u001b[0;31mValidationError\u001b[0m: 1 validation error for ModuleInstallInstruction\ninstall\n  str type expected (type=type_error.str)"
     ]
    }
   ],
   "source": [
    "from devinstaller import base_module as b\n",
    "\n",
    "b.ModuleInstallInstruction({\"install\": \"install command\", \"rollback\": \"rollvack com\"})"
   ]
  },
  {
   "cell_type": "code",
   "execution_count": 14,
   "metadata": {},
   "outputs": [
    {
     "data": {
      "text/plain": [
       "['__call__',\n",
       " '__class__',\n",
       " '__delattr__',\n",
       " '__dir__',\n",
       " '__doc__',\n",
       " '__eq__',\n",
       " '__format__',\n",
       " '__ge__',\n",
       " '__getattribute__',\n",
       " '__gt__',\n",
       " '__hash__',\n",
       " '__init__',\n",
       " '__init_subclass__',\n",
       " '__le__',\n",
       " '__lt__',\n",
       " '__module__',\n",
       " '__name__',\n",
       " '__ne__',\n",
       " '__new__',\n",
       " '__qualname__',\n",
       " '__reduce__',\n",
       " '__reduce_ex__',\n",
       " '__repr__',\n",
       " '__self__',\n",
       " '__setattr__',\n",
       " '__sizeof__',\n",
       " '__str__',\n",
       " '__subclasshook__',\n",
       " '__text_signature__']"
      ]
     },
     "execution_count": 14,
     "metadata": {},
     "output_type": "execute_result"
    }
   ],
   "source": [
    "d = {\n",
    "    \"foo\": \"bar\"\n",
    "}\n",
    "dir(d.values)"
   ]
  },
  {
   "cell_type": "code",
   "execution_count": 6,
   "metadata": {},
   "outputs": [
    {
     "data": {
      "text/plain": [
       "{'valid': True,\n",
       " 'document': {'command': [{'install': 'install 0'},\n",
       "   {'install': \"{'install': 'install 1', 'rollback': 'rollback 1'}\"},\n",
       "   {'install': \"{'install': 'install 2', 'rollback': 'rollback 2'}\"}]},\n",
       " 'errors': {}}"
      ]
     },
     "execution_count": 6,
     "metadata": {},
     "output_type": "execute_result"
    }
   ],
   "source": [
    "def to_inst_dict(input_str):\n",
    "    return {\n",
    "        \"install\": input_str\n",
    "    }\n",
    "def sch():\n",
    "    data = {\n",
    "        \"command\" : {\n",
    "            \"type\": \"list\",\n",
    "            \"schema\": {\n",
    "                \"type\": \"dict\",\n",
    "                'coerce': (str, to_inst_dict),\n",
    "                \"schema\": {\n",
    "                    \"install\": {\"type\": \"string\", \"required\": True},\n",
    "                    \"rollback\": {\"type\": \"string\"},\n",
    "                },\n",
    "            },\n",
    "        }\n",
    "    }\n",
    "    return data\n",
    "    \n",
    "d = {\n",
    "    \"command\": [\n",
    "        \"install 0\",\n",
    "        {\n",
    "            \"install\": \"install 1\",\n",
    "            \"rollback\": \"rollback 1\",\n",
    "        },\n",
    "        {\n",
    "            \"install\": \"install 2\",\n",
    "            \"rollback\": \"rollback 2\"\n",
    "        }\n",
    "    ]\n",
    "}\n",
    "from importlib import reload\n",
    "from devinstaller import schema as s\n",
    "reload(s)\n",
    "s.validate(d, sch())"
   ]
  },
  {
   "cell_type": "code",
   "execution_count": 16,
   "metadata": {},
   "outputs": [
    {
     "data": {
      "text/plain": [
       "{'install 1': 'rollback 1', 'install 2': 'rollback 2'}"
      ]
     },
     "execution_count": 16,
     "metadata": {},
     "output_type": "execute_result"
    }
   ],
   "source": [
    "d = {\n",
    "    \"constants\": [\n",
    "        {\n",
    "            \"key\": \"install 1\",\n",
    "            \"value\": \"rollback 1\",\n",
    "        },\n",
    "        {\n",
    "            \"key\": \"install 2\",\n",
    "            \"value\": \"rollback 2\"\n",
    "        }\n",
    "    ]\n",
    "}\n",
    "\n",
    "from devinstaller.models import base_module as b\n",
    "\n",
    "data = {}\n",
    "for i in d[\"constants\"]:\n",
    "    data[i[\"key\"]] = i[\"value\"]\n",
    "    \n",
    "data"
   ]
  },
  {
   "cell_type": "code",
   "execution_count": 10,
   "metadata": {},
   "outputs": [
    {
     "name": "stdout",
     "output_type": "stream",
     "text": [
      "{'k1': 'v1', 'k2': 'v2'}\n",
      "[{'cmd': 'cmd 1v1'}, {'cmd': 'cmd 2 v2'}]\n"
     ]
    }
   ],
   "source": [
    "from devinstaller.models import app_module\n",
    "\n",
    "data = {\"name\": \"test\", \"constants\": [{\"key\": \"k1\", \"value\": \"v1\"}, {\"key\": \"k2\", \"value\": \"v2\"}], \"install_inst\": [{\"cmd\": \"cmd 1{k1}\"}, {\"cmd\": \"cmd 2 {k2}\"}]}\n",
    "# app_module.AppModule(**data)\n",
    "for i in data[\"install_inst\"]:\n",
    "    i[\"cmd\"] = i[\"cmd\"].format(**const_data)\n",
    "print(data[\"install_inst\"])"
   ]
  },
  {
   "cell_type": "code",
   "execution_count": null,
   "metadata": {},
   "outputs": [],
   "source": [
    "def create_const_dict(constants: List[Dict[str, str]]):\n",
    "    data = {}\n",
    "    for i in constants:\n",
    "        data[i[\"key\"]] = i[\"value\"]"
   ]
  },
  {
   "cell_type": "code",
   "execution_count": 4,
   "metadata": {},
   "outputs": [
    {
     "data": {
      "text/plain": [
       "AppModule(name='test', alias='test', display='test', description=None, url=None, status=None, constants={'k1': 'v1', 'k2': 'v2'}, version=None, executable=None, optionals=None, requires=None, install_inst=[ModuleInstallInstruction(cmd='cmd 1{k1}', rollback=None), ModuleInstallInstruction(cmd='cmd 2 {k2}', rollback=None)], uninstall_inst=None, bind=None)"
      ]
     },
     "execution_count": 4,
     "metadata": {},
     "output_type": "execute_result"
    }
   ],
   "source": [
    "data = {\"name\": \"test\", \"constants\": [{\"key\": \"k1\", \"value\": \"v1\"}, {\"key\": \"k2\", \"value\": \"v2\"}], \"install_inst\": [{\"cmd\": \"cmd 1{k1}\"}, {\"cmd\": \"cmd 2 {k2}\"}]}\n",
    "from devinstaller.models import app_module\n",
    "a = app_module.AppModule(**data)\n",
    "a"
   ]
  },
  {
   "cell_type": "code",
   "execution_count": 10,
   "metadata": {},
   "outputs": [
    {
     "name": "stdout",
     "output_type": "stream",
     "text": [
      "cmd 1v1\n",
      "None\n",
      "cmd 2 v2\n",
      "None\n"
     ]
    },
    {
     "data": {
      "text/plain": [
       "AppModule(name='test', alias='test', display='test', description=None, url=None, status=None, constants={'k1': 'v1', 'k2': 'v2'}, version=None, executable=None, optionals=None, requires=None, install_inst=[ModuleInstallInstruction(cmd='cmd 1v1', rollback=None), ModuleInstallInstruction(cmd='cmd 2 v2', rollback=None)], uninstall_inst=None, bind=None)"
      ]
     },
     "execution_count": 10,
     "metadata": {},
     "output_type": "execute_result"
    }
   ],
   "source": [
    "for i in a.install_inst:\n",
    "    i.cmd = i.cmd.format(**a.constants)\n",
    "    i.rollback = i.rollback.format(**a.constants) if i.rollback is not None else None\n",
    "    print(i.cmd)\n",
    "    print(i.rollback)\n",
    "    \n",
    "    \n",
    "a"
   ]
  },
  {
   "cell_type": "code",
   "execution_count": 7,
   "metadata": {},
   "outputs": [
    {
     "ename": "SpecificationError",
     "evalue": "\nErrors: # Devinstaller\n\n[[_TOC_]]\n\n<a name=\"unreleased\"></a>\n## [Unreleased]\n\n\n<a name=\"v0.4.0\"></a>\n## [v0.4.0] - 2020-06-21\n### Bug Fixes\n- [#22](https://gitlab.com/devinstaller/devinstaller/issues/22)\n- Documentation\n- `ModuleNotFoundError`\n- [#14](https://gitlab.com/devinstaller/devinstaller/issues/14)\n- Module not found\n- Mypy\n- tests: Coverage report\n- Sample devfile\n- Variable name error\n- DFS search\n- DFS logic\n\n### Code Refactoring\n- Codebase\n\n### Features\n- Add changelog package\n\n\n<a name=\"v0.1.2\"></a>\n## [v0.1.2] - 2020-05-31\n### Features\n- Add changelog package\n\n\n<a name=\"v0.1.0\"></a>\n## v0.1.0 - 2020-05-23\n\n[Unreleased]: https://gitlab.com/devinstaller/devinstaller/compare/v0.4.0...HEAD\n[v0.4.0]: https://gitlab.com/devinstaller/devinstaller/compare/v0.1.2...v0.4.0\n[v0.1.2]: https://gitlab.com/devinstaller/devinstaller/compare/v0.1.0...v0.1.2\n\nI found a violation of code S100.\nS100: Your devfile is not a valid.\nThere is some error in your file content",
     "output_type": "error",
     "traceback": [
      "\u001b[0;31m---------------------------------------------------------------------------\u001b[0m",
      "\u001b[0;31mParserError\u001b[0m                               Traceback (most recent call last)",
      "\u001b[0;32m~/Library/Caches/pypoetry/virtualenvs/devinstaller-Kl10Z9mx-py3.8/lib/python3.8/site-packages/anymarkup_core/__init__.py\u001b[0m in \u001b[0;36mparse\u001b[0;34m(inp, format, encoding, force_types, interpolate)\u001b[0m\n\u001b[1;32m    110\u001b[0m     \u001b[0;32mtry\u001b[0m\u001b[0;34m:\u001b[0m\u001b[0;34m\u001b[0m\u001b[0;34m\u001b[0m\u001b[0m\n\u001b[0;32m--> 111\u001b[0;31m         \u001b[0mres\u001b[0m \u001b[0;34m=\u001b[0m \u001b[0m_do_parse\u001b[0m\u001b[0;34m(\u001b[0m\u001b[0mproper_inp\u001b[0m\u001b[0;34m,\u001b[0m \u001b[0mfmt\u001b[0m\u001b[0;34m,\u001b[0m \u001b[0mencoding\u001b[0m\u001b[0;34m,\u001b[0m \u001b[0mforce_types\u001b[0m\u001b[0;34m,\u001b[0m \u001b[0minterpolate\u001b[0m\u001b[0;34m)\u001b[0m\u001b[0;34m\u001b[0m\u001b[0;34m\u001b[0m\u001b[0m\n\u001b[0m\u001b[1;32m    112\u001b[0m     \u001b[0;32mexcept\u001b[0m \u001b[0mException\u001b[0m \u001b[0;32mas\u001b[0m \u001b[0me\u001b[0m\u001b[0;34m:\u001b[0m\u001b[0;34m\u001b[0m\u001b[0;34m\u001b[0m\u001b[0m\n",
      "\u001b[0;32m~/Library/Caches/pypoetry/virtualenvs/devinstaller-Kl10Z9mx-py3.8/lib/python3.8/site-packages/anymarkup_core/__init__.py\u001b[0m in \u001b[0;36m_do_parse\u001b[0;34m(inp, fmt, encoding, force_types, interpolate)\u001b[0m\n\u001b[1;32m    256\u001b[0m         \u001b[0;31m#  it explicitly\u001b[0m\u001b[0;34m\u001b[0m\u001b[0;34m\u001b[0m\u001b[0;34m\u001b[0m\u001b[0m\n\u001b[0;32m--> 257\u001b[0;31m         \u001b[0mres\u001b[0m \u001b[0;34m=\u001b[0m \u001b[0myaml\u001b[0m\u001b[0;34m.\u001b[0m\u001b[0msafe_load\u001b[0m\u001b[0;34m(\u001b[0m\u001b[0minp\u001b[0m\u001b[0;34m)\u001b[0m\u001b[0;34m\u001b[0m\u001b[0;34m\u001b[0m\u001b[0m\n\u001b[0m\u001b[1;32m    258\u001b[0m     \u001b[0;32melse\u001b[0m\u001b[0;34m:\u001b[0m\u001b[0;34m\u001b[0m\u001b[0;34m\u001b[0m\u001b[0m\n",
      "\u001b[0;32m~/Library/Caches/pypoetry/virtualenvs/devinstaller-Kl10Z9mx-py3.8/lib/python3.8/site-packages/yaml/__init__.py\u001b[0m in \u001b[0;36msafe_load\u001b[0;34m(stream)\u001b[0m\n\u001b[1;32m    161\u001b[0m     \"\"\"\n\u001b[0;32m--> 162\u001b[0;31m     \u001b[0;32mreturn\u001b[0m \u001b[0mload\u001b[0m\u001b[0;34m(\u001b[0m\u001b[0mstream\u001b[0m\u001b[0;34m,\u001b[0m \u001b[0mSafeLoader\u001b[0m\u001b[0;34m)\u001b[0m\u001b[0;34m\u001b[0m\u001b[0;34m\u001b[0m\u001b[0m\n\u001b[0m\u001b[1;32m    163\u001b[0m \u001b[0;34m\u001b[0m\u001b[0m\n",
      "\u001b[0;32m~/Library/Caches/pypoetry/virtualenvs/devinstaller-Kl10Z9mx-py3.8/lib/python3.8/site-packages/yaml/__init__.py\u001b[0m in \u001b[0;36mload\u001b[0;34m(stream, Loader)\u001b[0m\n\u001b[1;32m    113\u001b[0m     \u001b[0;32mtry\u001b[0m\u001b[0;34m:\u001b[0m\u001b[0;34m\u001b[0m\u001b[0;34m\u001b[0m\u001b[0m\n\u001b[0;32m--> 114\u001b[0;31m         \u001b[0;32mreturn\u001b[0m \u001b[0mloader\u001b[0m\u001b[0;34m.\u001b[0m\u001b[0mget_single_data\u001b[0m\u001b[0;34m(\u001b[0m\u001b[0;34m)\u001b[0m\u001b[0;34m\u001b[0m\u001b[0;34m\u001b[0m\u001b[0m\n\u001b[0m\u001b[1;32m    115\u001b[0m     \u001b[0;32mfinally\u001b[0m\u001b[0;34m:\u001b[0m\u001b[0;34m\u001b[0m\u001b[0;34m\u001b[0m\u001b[0m\n",
      "\u001b[0;32m~/Library/Caches/pypoetry/virtualenvs/devinstaller-Kl10Z9mx-py3.8/lib/python3.8/site-packages/yaml/constructor.py\u001b[0m in \u001b[0;36mget_single_data\u001b[0;34m(self)\u001b[0m\n\u001b[1;32m     48\u001b[0m         \u001b[0;31m# Ensure that the stream contains a single document and construct it.\u001b[0m\u001b[0;34m\u001b[0m\u001b[0;34m\u001b[0m\u001b[0;34m\u001b[0m\u001b[0m\n\u001b[0;32m---> 49\u001b[0;31m         \u001b[0mnode\u001b[0m \u001b[0;34m=\u001b[0m \u001b[0mself\u001b[0m\u001b[0;34m.\u001b[0m\u001b[0mget_single_node\u001b[0m\u001b[0;34m(\u001b[0m\u001b[0;34m)\u001b[0m\u001b[0;34m\u001b[0m\u001b[0;34m\u001b[0m\u001b[0m\n\u001b[0m\u001b[1;32m     50\u001b[0m         \u001b[0;32mif\u001b[0m \u001b[0mnode\u001b[0m \u001b[0;32mis\u001b[0m \u001b[0;32mnot\u001b[0m \u001b[0;32mNone\u001b[0m\u001b[0;34m:\u001b[0m\u001b[0;34m\u001b[0m\u001b[0;34m\u001b[0m\u001b[0m\n",
      "\u001b[0;32m~/Library/Caches/pypoetry/virtualenvs/devinstaller-Kl10Z9mx-py3.8/lib/python3.8/site-packages/yaml/composer.py\u001b[0m in \u001b[0;36mget_single_node\u001b[0;34m(self)\u001b[0m\n\u001b[1;32m     38\u001b[0m         \u001b[0;31m# Ensure that the stream contains no more documents.\u001b[0m\u001b[0;34m\u001b[0m\u001b[0;34m\u001b[0m\u001b[0;34m\u001b[0m\u001b[0m\n\u001b[0;32m---> 39\u001b[0;31m         \u001b[0;32mif\u001b[0m \u001b[0;32mnot\u001b[0m \u001b[0mself\u001b[0m\u001b[0;34m.\u001b[0m\u001b[0mcheck_event\u001b[0m\u001b[0;34m(\u001b[0m\u001b[0mStreamEndEvent\u001b[0m\u001b[0;34m)\u001b[0m\u001b[0;34m:\u001b[0m\u001b[0;34m\u001b[0m\u001b[0;34m\u001b[0m\u001b[0m\n\u001b[0m\u001b[1;32m     40\u001b[0m             \u001b[0mevent\u001b[0m \u001b[0;34m=\u001b[0m \u001b[0mself\u001b[0m\u001b[0;34m.\u001b[0m\u001b[0mget_event\u001b[0m\u001b[0;34m(\u001b[0m\u001b[0;34m)\u001b[0m\u001b[0;34m\u001b[0m\u001b[0;34m\u001b[0m\u001b[0m\n",
      "\u001b[0;32m~/Library/Caches/pypoetry/virtualenvs/devinstaller-Kl10Z9mx-py3.8/lib/python3.8/site-packages/yaml/parser.py\u001b[0m in \u001b[0;36mcheck_event\u001b[0;34m(self, *choices)\u001b[0m\n\u001b[1;32m     97\u001b[0m             \u001b[0;32mif\u001b[0m \u001b[0mself\u001b[0m\u001b[0;34m.\u001b[0m\u001b[0mstate\u001b[0m\u001b[0;34m:\u001b[0m\u001b[0;34m\u001b[0m\u001b[0;34m\u001b[0m\u001b[0m\n\u001b[0;32m---> 98\u001b[0;31m                 \u001b[0mself\u001b[0m\u001b[0;34m.\u001b[0m\u001b[0mcurrent_event\u001b[0m \u001b[0;34m=\u001b[0m \u001b[0mself\u001b[0m\u001b[0;34m.\u001b[0m\u001b[0mstate\u001b[0m\u001b[0;34m(\u001b[0m\u001b[0;34m)\u001b[0m\u001b[0;34m\u001b[0m\u001b[0;34m\u001b[0m\u001b[0m\n\u001b[0m\u001b[1;32m     99\u001b[0m         \u001b[0;32mif\u001b[0m \u001b[0mself\u001b[0m\u001b[0;34m.\u001b[0m\u001b[0mcurrent_event\u001b[0m \u001b[0;32mis\u001b[0m \u001b[0;32mnot\u001b[0m \u001b[0;32mNone\u001b[0m\u001b[0;34m:\u001b[0m\u001b[0;34m\u001b[0m\u001b[0;34m\u001b[0m\u001b[0m\n",
      "\u001b[0;32m~/Library/Caches/pypoetry/virtualenvs/devinstaller-Kl10Z9mx-py3.8/lib/python3.8/site-packages/yaml/parser.py\u001b[0m in \u001b[0;36mparse_document_start\u001b[0;34m(self)\u001b[0m\n\u001b[1;32m    170\u001b[0m             \u001b[0;32mif\u001b[0m \u001b[0;32mnot\u001b[0m \u001b[0mself\u001b[0m\u001b[0;34m.\u001b[0m\u001b[0mcheck_token\u001b[0m\u001b[0;34m(\u001b[0m\u001b[0mDocumentStartToken\u001b[0m\u001b[0;34m)\u001b[0m\u001b[0;34m:\u001b[0m\u001b[0;34m\u001b[0m\u001b[0;34m\u001b[0m\u001b[0m\n\u001b[0;32m--> 171\u001b[0;31m                 raise ParserError(None, None,\n\u001b[0m\u001b[1;32m    172\u001b[0m                         \u001b[0;34m\"expected '<document start>', but found %r\"\u001b[0m\u001b[0;34m\u001b[0m\u001b[0;34m\u001b[0m\u001b[0m\n",
      "\u001b[0;31mParserError\u001b[0m: expected '<document start>', but found '<scalar>'\n  in \"<file>\", line 5, column 1",
      "\nDuring handling of the above exception, another exception occurred:\n",
      "\u001b[0;31mAnyMarkupError\u001b[0m                            Traceback (most recent call last)",
      "\u001b[0;32m~/projects/devinstaller/devinstaller/file_handler.py\u001b[0m in \u001b[0;36mparse_contents\u001b[0;34m(file_contents, file_format)\u001b[0m\n\u001b[1;32m     63\u001b[0m     \u001b[0;32mtry\u001b[0m\u001b[0;34m:\u001b[0m\u001b[0;34m\u001b[0m\u001b[0;34m\u001b[0m\u001b[0m\n\u001b[0;32m---> 64\u001b[0;31m         \u001b[0;32mreturn\u001b[0m \u001b[0manymarkup\u001b[0m\u001b[0;34m.\u001b[0m\u001b[0mparse\u001b[0m\u001b[0;34m(\u001b[0m\u001b[0mfile_contents\u001b[0m\u001b[0;34m,\u001b[0m \u001b[0mformat\u001b[0m\u001b[0;34m=\u001b[0m\u001b[0mfile_format\u001b[0m\u001b[0;34m)\u001b[0m\u001b[0;34m\u001b[0m\u001b[0;34m\u001b[0m\u001b[0m\n\u001b[0m\u001b[1;32m     65\u001b[0m     \u001b[0;32mexcept\u001b[0m \u001b[0mException\u001b[0m\u001b[0;34m:\u001b[0m\u001b[0;34m\u001b[0m\u001b[0;34m\u001b[0m\u001b[0m\n",
      "\u001b[0;32m~/Library/Caches/pypoetry/virtualenvs/devinstaller-Kl10Z9mx-py3.8/lib/python3.8/site-packages/anymarkup_core/__init__.py\u001b[0m in \u001b[0;36mparse\u001b[0;34m(inp, format, encoding, force_types, interpolate)\u001b[0m\n\u001b[1;32m    113\u001b[0m         \u001b[0;31m# I wish there was only Python 3 and I could just use \"raise ... from e\"\u001b[0m\u001b[0;34m\u001b[0m\u001b[0;34m\u001b[0m\u001b[0;34m\u001b[0m\u001b[0m\n\u001b[0;32m--> 114\u001b[0;31m         \u001b[0;32mraise\u001b[0m \u001b[0mAnyMarkupError\u001b[0m\u001b[0;34m(\u001b[0m\u001b[0me\u001b[0m\u001b[0;34m,\u001b[0m \u001b[0mtraceback\u001b[0m\u001b[0;34m.\u001b[0m\u001b[0mformat_exc\u001b[0m\u001b[0;34m(\u001b[0m\u001b[0;34m)\u001b[0m\u001b[0;34m)\u001b[0m\u001b[0;34m\u001b[0m\u001b[0;34m\u001b[0m\u001b[0m\n\u001b[0m\u001b[1;32m    115\u001b[0m     \u001b[0;32mif\u001b[0m \u001b[0mres\u001b[0m \u001b[0;32mis\u001b[0m \u001b[0;32mNone\u001b[0m\u001b[0;34m:\u001b[0m\u001b[0;34m\u001b[0m\u001b[0;34m\u001b[0m\u001b[0m\n",
      "\u001b[0;31mAnyMarkupError\u001b[0m: AnyMarkupError: caught <class 'yaml.parser.ParserError'>: expected '<document start>', but found '<scalar>'\n  in \"<file>\", line 5, column 1\nOriginal traceback:\nTraceback (most recent call last):\n  File \"/Users/justinkizhakkinedath/Library/Caches/pypoetry/virtualenvs/devinstaller-Kl10Z9mx-py3.8/lib/python3.8/site-packages/anymarkup_core/__init__.py\", line 111, in parse\n    res = _do_parse(proper_inp, fmt, encoding, force_types, interpolate)\n  File \"/Users/justinkizhakkinedath/Library/Caches/pypoetry/virtualenvs/devinstaller-Kl10Z9mx-py3.8/lib/python3.8/site-packages/anymarkup_core/__init__.py\", line 257, in _do_parse\n    res = yaml.safe_load(inp)\n  File \"/Users/justinkizhakkinedath/Library/Caches/pypoetry/virtualenvs/devinstaller-Kl10Z9mx-py3.8/lib/python3.8/site-packages/yaml/__init__.py\", line 162, in safe_load\n    return load(stream, SafeLoader)\n  File \"/Users/justinkizhakkinedath/Library/Caches/pypoetry/virtualenvs/devinstaller-Kl10Z9mx-py3.8/lib/python3.8/site-packages/yaml/__init__.py\", line 114, in load\n    return loader.get_single_data()\n  File \"/Users/justinkizhakkinedath/Library/Caches/pypoetry/virtualenvs/devinstaller-Kl10Z9mx-py3.8/lib/python3.8/site-packages/yaml/constructor.py\", line 49, in get_single_data\n    node = self.get_single_node()\n  File \"/Users/justinkizhakkinedath/Library/Caches/pypoetry/virtualenvs/devinstaller-Kl10Z9mx-py3.8/lib/python3.8/site-packages/yaml/composer.py\", line 39, in get_single_node\n    if not self.check_event(StreamEndEvent):\n  File \"/Users/justinkizhakkinedath/Library/Caches/pypoetry/virtualenvs/devinstaller-Kl10Z9mx-py3.8/lib/python3.8/site-packages/yaml/parser.py\", line 98, in check_event\n    self.current_event = self.state()\n  File \"/Users/justinkizhakkinedath/Library/Caches/pypoetry/virtualenvs/devinstaller-Kl10Z9mx-py3.8/lib/python3.8/site-packages/yaml/parser.py\", line 171, in parse_document_start\n    raise ParserError(None, None,\nyaml.parser.ParserError: expected '<document start>', but found '<scalar>'\n  in \"<file>\", line 5, column 1\n",
      "\nDuring handling of the above exception, another exception occurred:\n",
      "\u001b[0;31mSpecificationError\u001b[0m                        Traceback (most recent call last)",
      "\u001b[0;32m<ipython-input-7-98b208b1b2cf>\u001b[0m in \u001b[0;36m<module>\u001b[0;34m\u001b[0m\n\u001b[1;32m      2\u001b[0m \u001b[0;34m\u001b[0m\u001b[0m\n\u001b[1;32m      3\u001b[0m \u001b[0mfile_path\u001b[0m \u001b[0;34m=\u001b[0m \u001b[0;34m\"file: CHANGELOG.md\"\u001b[0m\u001b[0;34m\u001b[0m\u001b[0;34m\u001b[0m\u001b[0m\n\u001b[0;32m----> 4\u001b[0;31m \u001b[0ma\u001b[0m \u001b[0;34m=\u001b[0m \u001b[0mf\u001b[0m\u001b[0;34m.\u001b[0m\u001b[0mget_data\u001b[0m\u001b[0;34m(\u001b[0m\u001b[0mfile_path\u001b[0m\u001b[0;34m)\u001b[0m\u001b[0;34m\u001b[0m\u001b[0;34m\u001b[0m\u001b[0m\n\u001b[0m\u001b[1;32m      5\u001b[0m \u001b[0ma\u001b[0m\u001b[0;34m\u001b[0m\u001b[0;34m\u001b[0m\u001b[0m\n",
      "\u001b[0;32m~/Library/Caches/pypoetry/virtualenvs/devinstaller-Kl10Z9mx-py3.8/lib/python3.8/site-packages/typeguard/__init__.py\u001b[0m in \u001b[0;36mwrapper\u001b[0;34m(*args, **kwargs)\u001b[0m\n\u001b[1;32m    838\u001b[0m         \u001b[0mmemo\u001b[0m \u001b[0;34m=\u001b[0m \u001b[0m_CallMemo\u001b[0m\u001b[0;34m(\u001b[0m\u001b[0mpython_func\u001b[0m\u001b[0;34m,\u001b[0m \u001b[0m_localns\u001b[0m\u001b[0;34m,\u001b[0m \u001b[0margs\u001b[0m\u001b[0;34m=\u001b[0m\u001b[0margs\u001b[0m\u001b[0;34m,\u001b[0m \u001b[0mkwargs\u001b[0m\u001b[0;34m=\u001b[0m\u001b[0mkwargs\u001b[0m\u001b[0;34m)\u001b[0m\u001b[0;34m\u001b[0m\u001b[0;34m\u001b[0m\u001b[0m\n\u001b[1;32m    839\u001b[0m         \u001b[0mcheck_argument_types\u001b[0m\u001b[0;34m(\u001b[0m\u001b[0mmemo\u001b[0m\u001b[0;34m)\u001b[0m\u001b[0;34m\u001b[0m\u001b[0;34m\u001b[0m\u001b[0m\n\u001b[0;32m--> 840\u001b[0;31m         \u001b[0mretval\u001b[0m \u001b[0;34m=\u001b[0m \u001b[0mfunc\u001b[0m\u001b[0;34m(\u001b[0m\u001b[0;34m*\u001b[0m\u001b[0margs\u001b[0m\u001b[0;34m,\u001b[0m \u001b[0;34m**\u001b[0m\u001b[0mkwargs\u001b[0m\u001b[0;34m)\u001b[0m\u001b[0;34m\u001b[0m\u001b[0;34m\u001b[0m\u001b[0m\n\u001b[0m\u001b[1;32m    841\u001b[0m         \u001b[0mcheck_return_type\u001b[0m\u001b[0;34m(\u001b[0m\u001b[0mretval\u001b[0m\u001b[0;34m,\u001b[0m \u001b[0mmemo\u001b[0m\u001b[0;34m)\u001b[0m\u001b[0;34m\u001b[0m\u001b[0;34m\u001b[0m\u001b[0m\n\u001b[1;32m    842\u001b[0m \u001b[0;34m\u001b[0m\u001b[0m\n",
      "\u001b[0;32m~/projects/devinstaller/devinstaller/file_handler.py\u001b[0m in \u001b[0;36mget_data\u001b[0;34m(file_path)\u001b[0m\n\u001b[1;32m    157\u001b[0m             \u001b[0;34m\"data\"\u001b[0m\u001b[0;34m:\u001b[0m \u001b[0;32mlambda\u001b[0m \u001b[0mx\u001b[0m\u001b[0;34m:\u001b[0m \u001b[0mx\u001b[0m\u001b[0;34m,\u001b[0m\u001b[0;34m\u001b[0m\u001b[0;34m\u001b[0m\u001b[0m\n\u001b[1;32m    158\u001b[0m         }\n\u001b[0;32m--> 159\u001b[0;31m         \u001b[0mfile_contents\u001b[0m \u001b[0;34m=\u001b[0m \u001b[0mfunction\u001b[0m\u001b[0;34m[\u001b[0m\u001b[0mmethod\u001b[0m\u001b[0;34m]\u001b[0m\u001b[0;34m(\u001b[0m\u001b[0mfile_path\u001b[0m\u001b[0;34m)\u001b[0m\u001b[0;34m\u001b[0m\u001b[0;34m\u001b[0m\u001b[0m\n\u001b[0m\u001b[1;32m    160\u001b[0m         \u001b[0mdata\u001b[0m \u001b[0;34m=\u001b[0m \u001b[0;34m{\u001b[0m\u001b[0;34m\"digest\"\u001b[0m\u001b[0;34m:\u001b[0m \u001b[0mhash\u001b[0m\u001b[0;34m(\u001b[0m\u001b[0mstr\u001b[0m\u001b[0;34m(\u001b[0m\u001b[0mfile_contents\u001b[0m\u001b[0;34m)\u001b[0m\u001b[0;34m)\u001b[0m\u001b[0;34m,\u001b[0m \u001b[0;34m\"contents\"\u001b[0m\u001b[0;34m:\u001b[0m \u001b[0mfile_contents\u001b[0m\u001b[0;34m}\u001b[0m\u001b[0;34m\u001b[0m\u001b[0;34m\u001b[0m\u001b[0m\n\u001b[1;32m    161\u001b[0m         \u001b[0;32mreturn\u001b[0m \u001b[0mdata\u001b[0m\u001b[0;34m\u001b[0m\u001b[0;34m\u001b[0m\u001b[0m\n",
      "\u001b[0;32m~/Library/Caches/pypoetry/virtualenvs/devinstaller-Kl10Z9mx-py3.8/lib/python3.8/site-packages/typeguard/__init__.py\u001b[0m in \u001b[0;36mwrapper\u001b[0;34m(*args, **kwargs)\u001b[0m\n\u001b[1;32m    838\u001b[0m         \u001b[0mmemo\u001b[0m \u001b[0;34m=\u001b[0m \u001b[0m_CallMemo\u001b[0m\u001b[0;34m(\u001b[0m\u001b[0mpython_func\u001b[0m\u001b[0;34m,\u001b[0m \u001b[0m_localns\u001b[0m\u001b[0;34m,\u001b[0m \u001b[0margs\u001b[0m\u001b[0;34m=\u001b[0m\u001b[0margs\u001b[0m\u001b[0;34m,\u001b[0m \u001b[0mkwargs\u001b[0m\u001b[0;34m=\u001b[0m\u001b[0mkwargs\u001b[0m\u001b[0;34m)\u001b[0m\u001b[0;34m\u001b[0m\u001b[0;34m\u001b[0m\u001b[0m\n\u001b[1;32m    839\u001b[0m         \u001b[0mcheck_argument_types\u001b[0m\u001b[0;34m(\u001b[0m\u001b[0mmemo\u001b[0m\u001b[0;34m)\u001b[0m\u001b[0;34m\u001b[0m\u001b[0;34m\u001b[0m\u001b[0m\n\u001b[0;32m--> 840\u001b[0;31m         \u001b[0mretval\u001b[0m \u001b[0;34m=\u001b[0m \u001b[0mfunc\u001b[0m\u001b[0;34m(\u001b[0m\u001b[0;34m*\u001b[0m\u001b[0margs\u001b[0m\u001b[0;34m,\u001b[0m \u001b[0;34m**\u001b[0m\u001b[0mkwargs\u001b[0m\u001b[0;34m)\u001b[0m\u001b[0;34m\u001b[0m\u001b[0;34m\u001b[0m\u001b[0m\n\u001b[0m\u001b[1;32m    841\u001b[0m         \u001b[0mcheck_return_type\u001b[0m\u001b[0;34m(\u001b[0m\u001b[0mretval\u001b[0m\u001b[0;34m,\u001b[0m \u001b[0mmemo\u001b[0m\u001b[0;34m)\u001b[0m\u001b[0;34m\u001b[0m\u001b[0;34m\u001b[0m\u001b[0m\n\u001b[1;32m    842\u001b[0m \u001b[0;34m\u001b[0m\u001b[0m\n",
      "\u001b[0;32m~/projects/devinstaller/devinstaller/file_handler.py\u001b[0m in \u001b[0;36mread_file_and_parse\u001b[0;34m(file_path)\u001b[0m\n\u001b[1;32m    100\u001b[0m     \"\"\"\n\u001b[1;32m    101\u001b[0m     \u001b[0mfile_format\u001b[0m \u001b[0;34m=\u001b[0m \u001b[0mfile_path\u001b[0m\u001b[0;34m.\u001b[0m\u001b[0msplit\u001b[0m\u001b[0;34m(\u001b[0m\u001b[0;34m\".\"\u001b[0m\u001b[0;34m)\u001b[0m\u001b[0;34m[\u001b[0m\u001b[0;34m-\u001b[0m\u001b[0;36m1\u001b[0m\u001b[0;34m]\u001b[0m\u001b[0;34m\u001b[0m\u001b[0;34m\u001b[0m\u001b[0m\n\u001b[0;32m--> 102\u001b[0;31m     \u001b[0;32mreturn\u001b[0m \u001b[0mparse_contents\u001b[0m\u001b[0;34m(\u001b[0m\u001b[0mread_file\u001b[0m\u001b[0;34m(\u001b[0m\u001b[0mfile_path\u001b[0m\u001b[0;34m)\u001b[0m\u001b[0;34m,\u001b[0m \u001b[0mfile_format\u001b[0m\u001b[0;34m=\u001b[0m\u001b[0mfile_format\u001b[0m\u001b[0;34m)\u001b[0m\u001b[0;34m\u001b[0m\u001b[0;34m\u001b[0m\u001b[0m\n\u001b[0m\u001b[1;32m    103\u001b[0m \u001b[0;34m\u001b[0m\u001b[0m\n\u001b[1;32m    104\u001b[0m \u001b[0;34m\u001b[0m\u001b[0m\n",
      "\u001b[0;32m~/Library/Caches/pypoetry/virtualenvs/devinstaller-Kl10Z9mx-py3.8/lib/python3.8/site-packages/typeguard/__init__.py\u001b[0m in \u001b[0;36mwrapper\u001b[0;34m(*args, **kwargs)\u001b[0m\n\u001b[1;32m    838\u001b[0m         \u001b[0mmemo\u001b[0m \u001b[0;34m=\u001b[0m \u001b[0m_CallMemo\u001b[0m\u001b[0;34m(\u001b[0m\u001b[0mpython_func\u001b[0m\u001b[0;34m,\u001b[0m \u001b[0m_localns\u001b[0m\u001b[0;34m,\u001b[0m \u001b[0margs\u001b[0m\u001b[0;34m=\u001b[0m\u001b[0margs\u001b[0m\u001b[0;34m,\u001b[0m \u001b[0mkwargs\u001b[0m\u001b[0;34m=\u001b[0m\u001b[0mkwargs\u001b[0m\u001b[0;34m)\u001b[0m\u001b[0;34m\u001b[0m\u001b[0;34m\u001b[0m\u001b[0m\n\u001b[1;32m    839\u001b[0m         \u001b[0mcheck_argument_types\u001b[0m\u001b[0;34m(\u001b[0m\u001b[0mmemo\u001b[0m\u001b[0;34m)\u001b[0m\u001b[0;34m\u001b[0m\u001b[0;34m\u001b[0m\u001b[0m\n\u001b[0;32m--> 840\u001b[0;31m         \u001b[0mretval\u001b[0m \u001b[0;34m=\u001b[0m \u001b[0mfunc\u001b[0m\u001b[0;34m(\u001b[0m\u001b[0;34m*\u001b[0m\u001b[0margs\u001b[0m\u001b[0;34m,\u001b[0m \u001b[0;34m**\u001b[0m\u001b[0mkwargs\u001b[0m\u001b[0;34m)\u001b[0m\u001b[0;34m\u001b[0m\u001b[0;34m\u001b[0m\u001b[0m\n\u001b[0m\u001b[1;32m    841\u001b[0m         \u001b[0mcheck_return_type\u001b[0m\u001b[0;34m(\u001b[0m\u001b[0mretval\u001b[0m\u001b[0;34m,\u001b[0m \u001b[0mmemo\u001b[0m\u001b[0;34m)\u001b[0m\u001b[0;34m\u001b[0m\u001b[0;34m\u001b[0m\u001b[0m\n\u001b[1;32m    842\u001b[0m \u001b[0;34m\u001b[0m\u001b[0m\n",
      "\u001b[0;32m~/projects/devinstaller/devinstaller/file_handler.py\u001b[0m in \u001b[0;36mparse_contents\u001b[0;34m(file_contents, file_format)\u001b[0m\n\u001b[1;32m     64\u001b[0m         \u001b[0;32mreturn\u001b[0m \u001b[0manymarkup\u001b[0m\u001b[0;34m.\u001b[0m\u001b[0mparse\u001b[0m\u001b[0;34m(\u001b[0m\u001b[0mfile_contents\u001b[0m\u001b[0;34m,\u001b[0m \u001b[0mformat\u001b[0m\u001b[0;34m=\u001b[0m\u001b[0mfile_format\u001b[0m\u001b[0;34m)\u001b[0m\u001b[0;34m\u001b[0m\u001b[0;34m\u001b[0m\u001b[0m\n\u001b[1;32m     65\u001b[0m     \u001b[0;32mexcept\u001b[0m \u001b[0mException\u001b[0m\u001b[0;34m:\u001b[0m\u001b[0;34m\u001b[0m\u001b[0;34m\u001b[0m\u001b[0m\n\u001b[0;32m---> 66\u001b[0;31m         raise e.SpecificationError(\n\u001b[0m\u001b[1;32m     67\u001b[0m             \u001b[0merror\u001b[0m\u001b[0;34m=\u001b[0m\u001b[0mfile_contents\u001b[0m\u001b[0;34m,\u001b[0m\u001b[0;34m\u001b[0m\u001b[0;34m\u001b[0m\u001b[0m\n\u001b[1;32m     68\u001b[0m             \u001b[0merror_code\u001b[0m\u001b[0;34m=\u001b[0m\u001b[0;34m\"S100\"\u001b[0m\u001b[0;34m,\u001b[0m\u001b[0;34m\u001b[0m\u001b[0;34m\u001b[0m\u001b[0m\n",
      "\u001b[0;31mSpecificationError\u001b[0m: \nErrors: # Devinstaller\n\n[[_TOC_]]\n\n<a name=\"unreleased\"></a>\n## [Unreleased]\n\n\n<a name=\"v0.4.0\"></a>\n## [v0.4.0] - 2020-06-21\n### Bug Fixes\n- [#22](https://gitlab.com/devinstaller/devinstaller/issues/22)\n- Documentation\n- `ModuleNotFoundError`\n- [#14](https://gitlab.com/devinstaller/devinstaller/issues/14)\n- Module not found\n- Mypy\n- tests: Coverage report\n- Sample devfile\n- Variable name error\n- DFS search\n- DFS logic\n\n### Code Refactoring\n- Codebase\n\n### Features\n- Add changelog package\n\n\n<a name=\"v0.1.2\"></a>\n## [v0.1.2] - 2020-05-31\n### Features\n- Add changelog package\n\n\n<a name=\"v0.1.0\"></a>\n## v0.1.0 - 2020-05-23\n\n[Unreleased]: https://gitlab.com/devinstaller/devinstaller/compare/v0.4.0...HEAD\n[v0.4.0]: https://gitlab.com/devinstaller/devinstaller/compare/v0.1.2...v0.4.0\n[v0.1.2]: https://gitlab.com/devinstaller/devinstaller/compare/v0.1.0...v0.1.2\n\nI found a violation of code S100.\nS100: Your devfile is not a valid.\nThere is some error in your file content"
     ]
    }
   ],
   "source": [
    "from devinstaller import file_handler as f\n",
    "\n",
    "file_path = \"file: CHANGELOG.md\"\n",
    "a = f.get_data(file_path)\n",
    "a"
   ]
  },
  {
   "cell_type": "code",
   "execution_count": 1,
   "metadata": {},
   "outputs": [
    {
     "data": {
      "text/plain": [
       "InterfaceBlock(name='interface 2', description=None, before=None, after=None, before_each=None, after_each=None, modules=[InterfaceModule(name='mod 1', before='before_1', after=None)])"
      ]
     },
     "execution_count": 1,
     "metadata": {},
     "output_type": "execute_result"
    }
   ],
   "source": [
    "from devinstaller.models import interface_block as i\n",
    "int_list = [\n",
    "    {\n",
    "        \"name\": \"interface 1\"\n",
    "    },\n",
    "    {\n",
    "        \"name\": \"interface 2\",\n",
    "        \"modules\": [\n",
    "            {\n",
    "                \"name\": \"mod 1\",\n",
    "                \"before\": \"before_1\"\n",
    "            }\n",
    "        ]\n",
    "    }\n",
    "]\n",
    "interface_name = \"interface 2\"\n",
    "\n",
    "interface = i.get_interface(\n",
    "    interface_list=int_list,\n",
    "    interface_name=interface_name,\n",
    ")\n",
    "interface"
   ]
  },
  {
   "cell_type": "code",
   "execution_count": 10,
   "metadata": {},
   "outputs": [
    {
     "data": {
      "text/plain": [
       "FileResponse(digest='7d85d04f8e68dfe09e6e11f395166c0c6c495f573a48a60ba10784faa26c1a30', contents='The MIT License\\n\\nCopyright 2020 Justine Kizhakkinedath\\n\\nPermission is hereby granted, free of charge, to any person obtaining a copy of this software and associated documentation files (the \"Software\"), to deal in the Software without restriction, including without limitation the rights to use, copy, modify, merge, publish, distribute, sublicense, and/or sell copies of the Software, and to permit persons to whom the Software is furnished to do so, subject to the following conditions:\\n\\nThe above copyright notice and this permission notice shall be included in all copies or substantial portions of the Software.\\n\\nTHE SOFTWARE IS PROVIDED \"AS IS\", WITHOUT WARRANTY OF ANY KIND, EXPRESS OR IMPLIED, INCLUDING BUT NOT LIMITED TO THE WARRANTIES OF MERCHANTABILITY, FITNESS FOR A PARTICULAR PURPOSE AND NONINFRINGEMENT. IN NO EVENT SHALL THE AUTHORS OR COPYRIGHT HOLDERS BE LIABLE FOR ANY CLAIM, DAMAGES OR OTHER LIABILITY, WHETHER IN AN ACTION OF CONTRACT, TORT OR OTHERWISE, ARISING FROM, OUT OF OR IN CONNECTION WITH THE SOFTWARE OR THE USE OR OTHER DEALINGS IN THE SOFTWARE.\\n')"
      ]
     },
     "execution_count": 10,
     "metadata": {},
     "output_type": "execute_result"
    }
   ],
   "source": [
    "from devinstaller import file_handler as f\n",
    "\n",
    "a = f.get_data(\"file: LICENSE.org\")\n",
    "a"
   ]
  },
  {
   "cell_type": "code",
   "execution_count": 38,
   "metadata": {},
   "outputs": [
    {
     "ename": "NameError",
     "evalue": "name 'f' is not defined",
     "output_type": "error",
     "traceback": [
      "\u001b[0;31m---------------------------------------------------------------------------\u001b[0m",
      "\u001b[0;31mNameError\u001b[0m                                 Traceback (most recent call last)",
      "\u001b[0;32m<ipython-input-38-62999c311410>\u001b[0m in \u001b[0;36m<module>\u001b[0;34m\u001b[0m\n\u001b[1;32m      1\u001b[0m \u001b[0;32mimport\u001b[0m \u001b[0mtempfile\u001b[0m\u001b[0;34m\u001b[0m\u001b[0;34m\u001b[0m\u001b[0m\n\u001b[0;32m----> 2\u001b[0;31m \u001b[0ma\u001b[0m \u001b[0;34m=\u001b[0m \u001b[0mf\u001b[0m\u001b[0;34m.\u001b[0m\u001b[0mget_data\u001b[0m\u001b[0;34m(\u001b[0m\u001b[0;34m\"file: LICENSE.org\"\u001b[0m\u001b[0;34m)\u001b[0m\u001b[0;34m\u001b[0m\u001b[0;34m\u001b[0m\u001b[0m\n\u001b[0m\u001b[1;32m      3\u001b[0m \u001b[0mfile_name\u001b[0m\u001b[0;34m=\u001b[0m\u001b[0mtempfile\u001b[0m\u001b[0;34m.\u001b[0m\u001b[0mmkstemp\u001b[0m\u001b[0;34m(\u001b[0m\u001b[0;34m)\u001b[0m\u001b[0;34m[\u001b[0m\u001b[0;36m1\u001b[0m\u001b[0;34m]\u001b[0m\u001b[0;34m\u001b[0m\u001b[0;34m\u001b[0m\u001b[0m\n\u001b[1;32m      4\u001b[0m \u001b[0mf\u001b[0m\u001b[0;34m.\u001b[0m\u001b[0mwrite_file\u001b[0m\u001b[0;34m(\u001b[0m\u001b[0ma\u001b[0m\u001b[0;34m.\u001b[0m\u001b[0mcontents\u001b[0m\u001b[0;34m,\u001b[0m \u001b[0mfile_name\u001b[0m\u001b[0;34m)\u001b[0m\u001b[0;34m\u001b[0m\u001b[0;34m\u001b[0m\u001b[0m\n\u001b[1;32m      5\u001b[0m \u001b[0mf\u001b[0m\u001b[0;34m.\u001b[0m\u001b[0mread_file\u001b[0m\u001b[0;34m(\u001b[0m\u001b[0mfile_name\u001b[0m\u001b[0;34m)\u001b[0m\u001b[0;34m\u001b[0m\u001b[0;34m\u001b[0m\u001b[0m\n",
      "\u001b[0;31mNameError\u001b[0m: name 'f' is not defined"
     ]
    }
   ],
   "source": [
    "import tempfile\n",
    "a = f.get_data(\"file: LICENSE.org\")\n",
    "file_name=tempfile.mkstemp()[1]\n",
    "f.write_file(a.contents, file_name)\n",
    "f.read_file(file_name)\n",
    "hi = \"hello\"\n",
    "print(locals()[\"hi\"])\n",
    "hi = \"hola\"\n",
    "print(locals()[\"hi\"])"
   ]
  },
  {
   "cell_type": "code",
   "execution_count": 36,
   "metadata": {},
   "outputs": [
    {
     "name": "stdout",
     "output_type": "stream",
     "text": [
      "['__builtins__', '__cached__', '__doc__', '__file__', '__loader__', '__name__', '__package__', '__spec__', 'print_hello']\n"
     ]
    },
    {
     "data": {
      "text/plain": [
       "True"
      ]
     },
     "execution_count": 36,
     "metadata": {},
     "output_type": "execute_result"
    }
   ],
   "source": [
    "import importlib.util\n",
    "spec = importlib.util.spec_from_file_location(\"devfile\", \"sample.devfile.py\")\n",
    "foo = importlib.util.module_from_spec(spec)\n",
    "spec.loader.exec_module(foo)\n",
    "print(dir(foo))\n",
    "\"print_hello\" in dir(foo)\n",
    "getattr(foo, \"print_hello\")\n",
    "import types\n",
    "isinstance(foo, types.ModuleType)"
   ]
  },
  {
   "cell_type": "code",
   "execution_count": 37,
   "metadata": {},
   "outputs": [
    {
     "name": "stdout",
     "output_type": "stream",
     "text": [
      "hi\n"
     ]
    },
    {
     "ename": "NameError",
     "evalue": "name 'tempfile' is not defined",
     "output_type": "error",
     "traceback": [
      "\u001b[0;31m---------------------------------------------------------------------------\u001b[0m",
      "\u001b[0;31mNameError\u001b[0m                                 Traceback (most recent call last)",
      "\u001b[0;32m<ipython-input-37-6cca26b9e101>\u001b[0m in \u001b[0;36m<module>\u001b[0;34m\u001b[0m\n\u001b[1;32m      3\u001b[0m \u001b[0mtemp\u001b[0m \u001b[0;34m=\u001b[0m \u001b[0mapp\u001b[0m\u001b[0;34m.\u001b[0m\u001b[0mload_python_module\u001b[0m\u001b[0;34m(\u001b[0m\u001b[0;34m\"sample.devfile.py\"\u001b[0m\u001b[0;34m)\u001b[0m\u001b[0;34m\u001b[0m\u001b[0;34m\u001b[0m\u001b[0m\n\u001b[1;32m      4\u001b[0m \u001b[0mtemp\u001b[0m\u001b[0;34m.\u001b[0m\u001b[0mprint_hello\u001b[0m\u001b[0;34m(\u001b[0m\u001b[0;34m\"hi\"\u001b[0m\u001b[0;34m)\u001b[0m\u001b[0;34m\u001b[0m\u001b[0;34m\u001b[0m\u001b[0m\n\u001b[0;32m----> 5\u001b[0;31m \u001b[0mtempfile\u001b[0m\u001b[0;34m.\u001b[0m\u001b[0mmkstemp\u001b[0m\u001b[0;34m(\u001b[0m\u001b[0;34m)\u001b[0m\u001b[0;34m\u001b[0m\u001b[0;34m\u001b[0m\u001b[0m\n\u001b[0m",
      "\u001b[0;31mNameError\u001b[0m: name 'tempfile' is not defined"
     ]
    }
   ],
   "source": [
    "from devinstaller import app\n",
    "\n",
    "temp = app.load_python_module(\"sample.devfile.py\")\n",
    "temp.print_hello(\"hi\")"
   ]
  },
  {
   "cell_type": "code",
   "execution_count": 52,
   "metadata": {},
   "outputs": [],
   "source": [
    "import tempfile, os\n",
    "from devinstaller import file_handler as f\n",
    "a = tempfile.mkstemp(suffix=\".py\")\n",
    "f.read_file(a[1])\n",
    "os.remove(a[1])"
   ]
  },
  {
   "cell_type": "code",
   "execution_count": 67,
   "metadata": {},
   "outputs": [
    {
     "name": "stdout",
     "output_type": "stream",
     "text": [
      "None\n"
     ]
    }
   ],
   "source": [
    "import re\n",
    "pattern = r\"^(py): (.*)\"\n",
    "result = re.match(pattern, \"sh: echo\")\n",
    "print(result)"
   ]
  },
  {
   "cell_type": "code",
   "execution_count": 77,
   "metadata": {},
   "outputs": [
    {
     "name": "stdout",
     "output_type": "stream",
     "text": [
      "inside Plugin_2.myhook()\n",
      "inside Plugin_1.myhook()\n",
      "nested hook 1\n",
      "[-1, 3]\n"
     ]
    }
   ],
   "source": [
    "import pluggy\n",
    "\n",
    "hookspec = pluggy.HookspecMarker(\"myproject\")\n",
    "hookimpl = pluggy.HookimplMarker(\"myproject\")\n",
    "\n",
    "\n",
    "class MySpec:\n",
    "    \"\"\"A hook specification namespace.\"\"\"\n",
    "\n",
    "    @hookspec\n",
    "    def myhook(self, arg1, arg2):\n",
    "        \"\"\"My special little hook that you can customize.\"\"\"\n",
    "        \n",
    "    @hookspec\n",
    "    def nested_hook(self):\n",
    "        \"\"\"Nested hook\"\"\"\n",
    "        print(\"nested hook spec\")\n",
    "\n",
    "\n",
    "class Plugin_1:\n",
    "    \"\"\"A hook implementation namespace.\"\"\"\n",
    "\n",
    "    @hookimpl\n",
    "    def myhook(self, arg1, arg2):\n",
    "        print(\"inside Plugin_1.myhook()\")\n",
    "        self.nested_hook()\n",
    "        return arg1 + arg2\n",
    "    \n",
    "    @hookimpl\n",
    "    def nested_hook(self):\n",
    "        print(\"nested hook 1\")\n",
    "\n",
    "\n",
    "class Plugin_2:\n",
    "    \"\"\"A 2nd hook implementation namespace.\"\"\"\n",
    "\n",
    "    @hookimpl\n",
    "    def myhook(self, arg1, arg2):\n",
    "        print(\"inside Plugin_2.myhook()\")\n",
    "\n",
    "        return arg1 - arg2\n",
    "\n",
    "    @hookimpl\n",
    "    def nested_hook(self):\n",
    "        print(\"nested hook 2\")\n",
    "\n",
    "\n",
    "# create a manager and add the spec\n",
    "pm = pluggy.PluginManager(\"myproject\")\n",
    "pm.add_hookspecs(MySpec)\n",
    "# register plugins\n",
    "pm.register(Plugin_1())\n",
    "pm.register(Plugin_2())\n",
    "# call our `myhook` hook\n",
    "results = pm.hook.myhook(arg1=1, arg2=2)\n",
    "print(results)"
   ]
  }
 ],
 "metadata": {
  "kernelspec": {
   "display_name": "Python 3",
   "language": "python",
   "name": "python3"
  },
  "language_info": {
   "codemirror_mode": {
    "name": "ipython",
    "version": 3
   },
   "file_extension": ".py",
   "mimetype": "text/x-python",
   "name": "python",
   "nbconvert_exporter": "python",
   "pygments_lexer": "ipython3",
   "version": "3.8.3"
  }
 },
 "nbformat": 4,
 "nbformat_minor": 4
}
